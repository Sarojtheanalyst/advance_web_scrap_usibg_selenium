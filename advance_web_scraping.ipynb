{
 "cells": [
  {
   "cell_type": "code",
   "execution_count": null,
   "id": "ca29d91b-b8a6-48c5-a970-c3feccec6d0c",
   "metadata": {},
   "outputs": [
    {
     "name": "stdout",
     "output_type": "stream",
     "text": [
      "68\n"
     ]
    }
   ],
   "source": [
    "from selenium import webdriver\n",
    "from selenium.webdriver.common.by import By\n",
    "import time\n",
    "course_name=[]\n",
    "ratings=[]\n",
    "teacher=[]\n",
    "driver = webdriver.Chrome()\n",
    "driver.get(\"https://learnwith.campusx.in/s/store/courses/Free%20Courses\")\n",
    "title=driver.find_elements(By.CLASS_NAME,\"\"\"ctitle\"\"\")\n",
    "rating=driver.find_elements(By.TAG_NAME,\"small\")\n",
    "teach=driver.find_elements(By.TAG_NAME,\"span\")\n",
    "print(len(teach))\n",
    "\n",
    "for i in title:\n",
    "    course_name.append(i.text)\n",
    "for i in rating:\n",
    "    ratings.append(i.text)\n",
    "\n",
    "for i in teach:\n",
    "    print(i.text)\n",
    "time.sleep(5)\n",
    "driver.close()\n"
   ]
  },
  {
   "cell_type": "code",
   "execution_count": 34,
   "id": "758f1f14-3d40-4adf-9683-1743128921f9",
   "metadata": {},
   "outputs": [
    {
     "name": "stdout",
     "output_type": "stream",
     "text": [
      "16\n",
      "16\n"
     ]
    }
   ],
   "source": [
    "print(len(ratings))\n",
    "print(len(course_name))"
   ]
  },
  {
   "cell_type": "code",
   "execution_count": null,
   "id": "119b909b-0140-47c7-8636-8886b3644a62",
   "metadata": {},
   "outputs": [],
   "source": []
  },
  {
   "cell_type": "code",
   "execution_count": null,
   "id": "5babbd8d-b292-4d80-a00a-8ec15767f855",
   "metadata": {},
   "outputs": [],
   "source": []
  },
  {
   "cell_type": "code",
   "execution_count": null,
   "id": "fb139624-7b11-4129-b77b-630444fa03f6",
   "metadata": {},
   "outputs": [],
   "source": []
  },
  {
   "cell_type": "code",
   "execution_count": null,
   "id": "f095297d-2541-451f-b982-0e4567e9e442",
   "metadata": {},
   "outputs": [],
   "source": []
  },
  {
   "cell_type": "code",
   "execution_count": null,
   "id": "d287ab18-b5d1-43a6-89a3-c5afcf5759d4",
   "metadata": {},
   "outputs": [],
   "source": []
  },
  {
   "cell_type": "code",
   "execution_count": null,
   "id": "ddfa3a75-a79b-41cc-a62e-8e23a5303caa",
   "metadata": {},
   "outputs": [],
   "source": []
  },
  {
   "cell_type": "code",
   "execution_count": null,
   "id": "278ba1ed-1459-454c-8e0c-71cab77c6e3c",
   "metadata": {},
   "outputs": [],
   "source": []
  }
 ],
 "metadata": {
  "kernelspec": {
   "display_name": "Python 3 (ipykernel)",
   "language": "python",
   "name": "python3"
  },
  "language_info": {
   "codemirror_mode": {
    "name": "ipython",
    "version": 3
   },
   "file_extension": ".py",
   "mimetype": "text/x-python",
   "name": "python",
   "nbconvert_exporter": "python",
   "pygments_lexer": "ipython3",
   "version": "3.12.4"
  }
 },
 "nbformat": 4,
 "nbformat_minor": 5
}
