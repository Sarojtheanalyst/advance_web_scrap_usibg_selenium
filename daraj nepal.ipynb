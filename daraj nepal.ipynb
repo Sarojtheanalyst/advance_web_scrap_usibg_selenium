{
 "cells": [
  {
   "cell_type": "code",
   "execution_count": null,
   "id": "450b267d-4be4-4321-9f70-8954ed5f9073",
   "metadata": {},
   "outputs": [],
   "source": [
    "from selenium import webdriver\n",
    "from selenium.webdriver.common.by import By\n",
    "import time\n",
    "driver = webdriver.Chrome()\n",
    "driver.get(\"https://www.homebaseworks.in/?campaignid=13087222795&adgroupid=137520324412&keyword=online%20earning%20jobs&device=c&gad_source=3&gclid=EAIaIQobChMI6_Kqo7T-iAMVJszCBB25FQZtEAAYASAAEgLdO_D_BwE\")\n"
   ]
  },
  {
   "cell_type": "markdown",
   "id": "0a0c3179-1894-45b1-ab6b-e400a3262f2e",
   "metadata": {},
   "source": [
    "# extract the images "
   ]
  },
  {
   "cell_type": "code",
   "execution_count": 12,
   "id": "50fa8a69-e135-45c5-8d1e-8d0261e09330",
   "metadata": {},
   "outputs": [],
   "source": [
    "from selenium import webdriver\n",
    "from selenium.webdriver.common.by import By\n",
    "import requests\n",
    "import os\n",
    "\n",
    "driver = webdriver.Chrome()\n",
    "driver.get(\"https://www.daraz.com.np/catalog/?page=1&q=iphone%20price&spm=a2a0e.tm80335409.search.d_go\")\n",
    "\n",
    "\n",
    "\n",
    "# Locate the image element (you may need to adjust the selector)\n",
    "image_element = driver.find_element(By.XPATH, '/html/body/div[4]/div/div[2]/div[1]/div/div[1]/div[2]/div[1]/div/div/div[1]/div/a/div/img')\n",
    "\n",
    "# Get the URL of the image\n",
    "image_url = image_element.get_attribute('src')\n",
    "\n",
    "# Download the image\n",
    "response = requests.get(image_url)\n",
    "if response.status_code == 200:\n",
    "    with open(\"R:\\\\daraj photos\\\\img.jpg\" ,'wb') as file:\n",
    "        file.write(response.content)\n",
    "\n",
    "driver.quit()\n",
    "\n",
    "\n"
   ]
  },
  {
   "cell_type": "code",
   "execution_count": null,
   "id": "1da97767-0882-4ee4-8cda-8ec35d2cbabe",
   "metadata": {},
   "outputs": [],
   "source": [
    "# /html/body/div[4]/div/div[2]/div[1]/div/div[1]/div[2]/div[2]/div/div/div[1]/div/a/div/img"
   ]
  },
  {
   "cell_type": "code",
   "execution_count": null,
   "id": "9c305122-6572-4af7-b9e0-101094e16280",
   "metadata": {},
   "outputs": [],
   "source": [
    "# /html/body/div[4]/div/div[2]/div[1]/div/div[1]/div[2]/div[i]/div/div/div[1]/div/a/div/img"
   ]
  },
  {
   "cell_type": "code",
   "execution_count": null,
   "id": "12b3fc5d-9413-4ecb-baff-448c58defd12",
   "metadata": {},
   "outputs": [],
   "source": [
    "# /html/body/div[4]/div/div[2]/div[1]/div/div[1]/div[2]/div[1]/div/div/div[1]/div/a/div/img"
   ]
  },
  {
   "cell_type": "markdown",
   "id": "88791a50-3dd1-426c-8357-f731a5a845d7",
   "metadata": {},
   "source": [
    "# this progra,m will work but there is no append in the folder logic mistakes "
   ]
  },
  {
   "cell_type": "code",
   "execution_count": null,
   "id": "99b623d0-7ea6-4864-a8ff-4192942fbbc0",
   "metadata": {},
   "outputs": [],
   "source": [
    "driver = webdriver.Chrome()\n",
    "import time\n",
    "\n",
    "for i in range(1,10):\n",
    "    driver.get(f\"https://www.daraz.com.np/catalog/?page={i}&q=iphone%20price&spm=a2a0e.tm80335409.search.d_go\")\n",
    "    time.sleep(10)\n",
    "\n",
    "    for j in range(1,40):\n",
    "        try:\n",
    "            time.sleep(2)\n",
    "            image_element = driver.find_element(By.XPATH, f'/html/body/div[4]/div/div[2]/div[1]/div/div[1]/div[2]/div[{j}]/div/div/div[1]/div/a/div/img')\n",
    "            image_url = image_element.get_attribute('src')\n",
    "            response = requests.get(image_url)\n",
    "            if response.status_code == 200:\n",
    "                with open(f\"R:\\\\daraj photos\\\\img1{j}.jpg\" ,'wb') as file:\n",
    "                    file.write(response.content)\n",
    "        except:\n",
    "            pass\n",
    "        \n",
    "\n",
    "driver.quit()\n",
    "print(\" sucessfully saved photos\")"
   ]
  },
  {
   "cell_type": "code",
   "execution_count": 14,
   "id": "f107a783-d0ac-4524-828c-859e4a2b2b78",
   "metadata": {},
   "outputs": [],
   "source": []
  },
  {
   "cell_type": "code",
   "execution_count": 9,
   "id": "afaa72c8-ec7f-40e1-9ae4-3c3202f2ff8e",
   "metadata": {},
   "outputs": [
    {
     "name": "stdout",
     "output_type": "stream",
     "text": [
      "3% Off\n",
      "12% Off\n",
      "75% Off\n",
      "48% Off\n",
      "63% Off\n",
      "48% Off\n",
      "66% Off\n",
      "50% Off\n",
      "77% Off\n",
      "73% Off\n",
      "data not found\n",
      "70% Off\n",
      "60% Off\n",
      "68% Off\n",
      "64% Off\n",
      "83% Off\n",
      "45% Off\n",
      "68% Off\n",
      "6% Off\n",
      "53% Off\n",
      "81% Off\n",
      "78% Off\n",
      "50% Off\n",
      "51% Off\n",
      "74% Off\n",
      "43% Off\n",
      "6% Off\n",
      "51% Off\n",
      "50% Off\n",
      "76% Off\n",
      "53% Off\n",
      "31% Off\n",
      "52% Off\n",
      "48% Off\n",
      "62% Off\n",
      "10% Off\n",
      "36% Off\n",
      "72% Off\n",
      "44% Off\n",
      "45% Off\n"
     ]
    }
   ],
   "source": [
    "# Extract the datas \n",
    "from selenium import webdriver\n",
    "from selenium.webdriver.common.by import By\n",
    "import requests\n",
    "import os\n",
    "\n",
    "driver = webdriver.Chrome()\n",
    "driver.get(\"https://www.daraz.com.np/catalog/?page=1&q=iphone%20price&spm=a2a0e.tm80335409.search.d_go\")\n",
    "\n",
    "for i in range(1,41):\n",
    "    try:\n",
    "        datas = driver.find_element(By.XPATH, f'/html/body/div[4]/div/div[2]/div[1]/div/div[1]/div[2]/div[{i}]/div/div/div[2]/div[4]/span')\n",
    "        print(datas.text)\n",
    "    except:\n",
    "        print('data not found')\n",
    "    \n",
    "\n",
    "\n",
    "\n"
   ]
  },
  {
   "cell_type": "code",
   "execution_count": null,
   "id": "0a76b17a-f22a-4a83-a035-ac261cc76382",
   "metadata": {},
   "outputs": [],
   "source": [
    "#/html/body/div[4]/div/div[2]/div[1]/div/div[1]/div[2]/div[1]/div/div/div[2]/div[4]/span"
   ]
  },
  {
   "cell_type": "code",
   "execution_count": null,
   "id": "e1ec1857-0c22-4597-acf5-bb20d7dce146",
   "metadata": {},
   "outputs": [],
   "source": [
    "#/html/body/div[4]/div/div[2]/div[1]/div/div[1]/div[2]/div[2]/div/div/div[2]/div[4]/span\n",
    "#/html/body/div[4]/div/div[2]/div[1]/div/div[1]/div[2]/div[3]/div/div/div[2]/div[4]/span\n",
    "#/html/body/div[4]/div/div[2]/div[1]/div/div[1]/div[2]/div[40]/div/div/div[2]/div[4]/span[1]"
   ]
  },
  {
   "cell_type": "code",
   "execution_count": null,
   "id": "df85e566-8214-456c-a84d-0b0ab0e23dbc",
   "metadata": {},
   "outputs": [],
   "source": [
    "#/html/body/div[4]/div/div[2]/div[1]/div/div[1]/div[2]/div[38]/div/div/div[2]/div[4]/span\n",
    "#/html/body/div[4]/div/div[2]/div[1]/div/div[1]/div[2]/div[40]/div/div/div[2]/div[4]/span[1]\n",
    "#/html/body/div[4]/div/div[2]/div[1]/div/div[1]/div[2]/div[39]/div/div/div[2]/div[4]/span[1]"
   ]
  },
  {
   "cell_type": "code",
   "execution_count": null,
   "id": "ca818587-f173-42a5-843e-6484a8f6533b",
   "metadata": {},
   "outputs": [],
   "source": [
    "#/html/body/div[4]/div/div[2]/div[1]/div/div[1]/div[2]/div[1]/div/div/div[2]/div[4]/span"
   ]
  },
  {
   "cell_type": "code",
   "execution_count": null,
   "id": "677669a6-4098-4a96-81cb-27d347e6106c",
   "metadata": {},
   "outputs": [],
   "source": [
    "#https://www.daraz.com.np/catalog/?page=5&q=iphone%20price&spm=a2a0e.tm80335409.search.d_go"
   ]
  },
  {
   "cell_type": "code",
   "execution_count": 11,
   "id": "22407ec5-3b9c-41be-b8b5-d6bf6ccc9c14",
   "metadata": {},
   "outputs": [
    {
     "name": "stdout",
     "output_type": "stream",
     "text": [
      "36 sold\n",
      "42 sold\n",
      "27 sold\n",
      "36 sold\n",
      "368 sold\n",
      "14 sold\n",
      "data not found\n",
      "123 sold\n",
      "125 sold\n",
      "9 sold\n",
      "31 sold\n",
      "68 sold\n",
      "data not found\n",
      "25 sold\n",
      "15 sold\n",
      "101 sold\n",
      "8 sold\n",
      "51 sold\n",
      "29 sold\n",
      "26 sold\n",
      "27 sold\n",
      "7 sold\n",
      "80 sold\n",
      "53 sold\n",
      "data not found\n",
      "121 sold\n",
      "14 sold\n",
      "13 sold\n",
      "54 sold\n",
      "328 sold\n",
      "11 sold\n",
      "164 sold\n",
      "19 sold\n",
      "50 sold\n",
      "20 sold\n",
      "20 sold\n",
      "34 sold\n",
      "76 sold\n",
      "33 sold\n",
      "42 sold\n"
     ]
    }
   ],
   "source": [
    "driver = webdriver.Chrome()\n",
    "driver.get(\"https://www.daraz.com.np/catalog/?page=5&q=iphone%20price&spm=a2a0e.tm80335409.search.d_go\")\n",
    "\n",
    "for i in range(1,41):\n",
    "    try:\n",
    "        datas = driver.find_element(By.XPATH, f'/html/body/div[4]/div/div[2]/div[1]/div/div[1]/div[2]/div[{i}]/div/div/div[2]/div[5]/span[1]/span[1]')\n",
    "        print(datas.text)\n",
    "    except:\n",
    "        print('data not found')"
   ]
  },
  {
   "cell_type": "code",
   "execution_count": null,
   "id": "097a6e1d-845e-4d85-b701-7db4b3b8c5e6",
   "metadata": {},
   "outputs": [],
   "source": [
    "#/html/body/div[4]/div/div[2]/div[1]/div/div[1]/div[2]/div[1]/div/div/div[2]/div[5]/span[1]/span[1]\n",
    "#/html/body/div[4]/div/div[2]/div[1]/div/div[1]/div[2]/div[i]/div/div/div[2]/div[5]/span[1]/span[1]"
   ]
  },
  {
   "cell_type": "code",
   "execution_count": 13,
   "id": "5052f08b-51a4-495b-85c9-c95219e79d8f",
   "metadata": {},
   "outputs": [
    {
     "name": "stdout",
     "output_type": "stream",
     "text": [
      "6 sold\n",
      "data not found\n",
      "42 sold\n",
      "94 sold\n",
      "42 sold\n",
      "data not found\n",
      "159 sold\n",
      "6 sold\n",
      "46 sold\n",
      "35 sold\n",
      "12 sold\n",
      "119 sold\n",
      "29 sold\n",
      "217 sold\n",
      "10 sold\n",
      "89 sold\n",
      "103 sold\n",
      "48 sold\n",
      "13 sold\n",
      "7 sold\n",
      "23 sold\n",
      "34 sold\n",
      "37 sold\n",
      "183 sold\n",
      "46 sold\n",
      "11 sold\n",
      "37 sold\n",
      "49 sold\n",
      "16 sold\n",
      "61 sold\n",
      "49 sold\n",
      "17 sold\n",
      "16 sold\n",
      "27 sold\n",
      "59 sold\n",
      "116 sold\n",
      "34 sold\n",
      "7 sold\n",
      "23 sold\n",
      "11 sold\n"
     ]
    }
   ],
   "source": [
    "driver = webdriver.Chrome()\n",
    "driver.get(\"https://www.daraz.com.np/catalog/?page=102&q=iphone%20price&spm=a2a0e.tm80335409.search.d_go\")\n",
    "\n",
    "for i in range(1,41):\n",
    "    try:\n",
    "        datas = driver.find_element(By.XPATH, f'/html/body/div[4]/div/div[2]/div[1]/div/div[1]/div[2]/div[{i}]/div/div/div[2]/div[5]/span[1]/span[1]')\n",
    "        print(datas.text)\n",
    "    except:\n",
    "        print('data not found')"
   ]
  },
  {
   "cell_type": "code",
   "execution_count": null,
   "id": "b85a8e0b-c2a6-4953-b0b8-0f4ab06d2c80",
   "metadata": {},
   "outputs": [],
   "source": []
  }
 ],
 "metadata": {
  "kernelspec": {
   "display_name": "Python 3 (ipykernel)",
   "language": "python",
   "name": "python3"
  },
  "language_info": {
   "codemirror_mode": {
    "name": "ipython",
    "version": 3
   },
   "file_extension": ".py",
   "mimetype": "text/x-python",
   "name": "python",
   "nbconvert_exporter": "python",
   "pygments_lexer": "ipython3",
   "version": "3.12.6"
  }
 },
 "nbformat": 4,
 "nbformat_minor": 5
}
