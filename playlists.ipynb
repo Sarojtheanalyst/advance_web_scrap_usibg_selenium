{
 "cells": [
  {
   "cell_type": "code",
   "execution_count": 3,
   "id": "45689e79-8745-473b-835c-f7d4dbc5dfec",
   "metadata": {},
   "outputs": [
    {
     "name": "stdout",
     "output_type": "stream",
     "text": [
      "freeCodeCamp.org Podcast data sucessfully downloaded\n",
      "Back End Developer Learning Path data sucessfully downloaded\n",
      "Front End Developer Learning Path data sucessfully downloaded\n",
      "C / C++ data sucessfully downloaded\n",
      "Deep Learning with PyTorch Course - December 2020 data sucessfully downloaded\n",
      "Data Analysis with Python Course data sucessfully downloaded\n",
      "Vue.js Live Coding with Gwen data sucessfully downloaded\n",
      "Mathematics data sucessfully downloaded\n",
      "Python Basics with Sam data sucessfully downloaded\n",
      "DevOps Courses data sucessfully downloaded\n"
     ]
    },
    {
     "ename": "NoSuchElementException",
     "evalue": "Message: no such element: Unable to locate element: {\"method\":\"xpath\",\"selector\":\"/html/body/ytd-app/div[1]/ytd-page-manager/ytd-browse[1]/ytd-two-column-browse-results-renderer/div[1]/ytd-section-list-renderer/div[2]/ytd-item-section-renderer/div[3]/ytd-grid-renderer/div[1]/ytd-grid-playlist-renderer[11]/div/yt-formatted-string/a\"}\n  (Session info: chrome=129.0.6668.101); For documentation on this error, please visit: https://www.selenium.dev/documentation/webdriver/troubleshooting/errors#no-such-element-exception\nStacktrace:\n\tGetHandleVerifier [0x00007FF73251B095+29557]\n\t(No symbol) [0x00007FF73248FA50]\n\t(No symbol) [0x00007FF73234B56A]\n\t(No symbol) [0x00007FF73239F695]\n\t(No symbol) [0x00007FF73239F8EC]\n\t(No symbol) [0x00007FF7323EB777]\n\t(No symbol) [0x00007FF7323C71CF]\n\t(No symbol) [0x00007FF7323E851C]\n\t(No symbol) [0x00007FF7323C6F33]\n\t(No symbol) [0x00007FF73239116F]\n\t(No symbol) [0x00007FF7323922D1]\n\tGetHandleVerifier [0x00007FF73284C96D+3378253]\n\tGetHandleVerifier [0x00007FF732898497+3688311]\n\tGetHandleVerifier [0x00007FF73288D1CB+3642539]\n\tGetHandleVerifier [0x00007FF7325DA6B6+813462]\n\t(No symbol) [0x00007FF73249AB5F]\n\t(No symbol) [0x00007FF732496B74]\n\t(No symbol) [0x00007FF732496D10]\n\t(No symbol) [0x00007FF732485C1F]\n\tBaseThreadInitThunk [0x00007FFB096E257D+29]\n\tRtlUserThreadStart [0x00007FFB0AB4AF08+40]\n",
     "output_type": "error",
     "traceback": [
      "\u001b[1;31m---------------------------------------------------------------------------\u001b[0m",
      "\u001b[1;31mNoSuchElementException\u001b[0m                    Traceback (most recent call last)",
      "Cell \u001b[1;32mIn[3], line 32\u001b[0m\n\u001b[0;32m     30\u001b[0m \u001b[38;5;28;01mfor\u001b[39;00m i \u001b[38;5;129;01min\u001b[39;00m \u001b[38;5;28mrange\u001b[39m(\u001b[38;5;241m1\u001b[39m,end\u001b[38;5;241m+\u001b[39m\u001b[38;5;241m1\u001b[39m):\n\u001b[0;32m     31\u001b[0m     path\u001b[38;5;241m=\u001b[39m\u001b[38;5;124mf\u001b[39m\u001b[38;5;124m'\u001b[39m\u001b[38;5;124m/html/body/ytd-app/div[1]/ytd-page-manager/ytd-browse[1]/ytd-two-column-browse-results-renderer/div[1]/ytd-section-list-renderer/div[2]/ytd-item-section-renderer/div[3]/ytd-grid-renderer/div[1]/ytd-grid-playlist-renderer[\u001b[39m\u001b[38;5;132;01m{\u001b[39;00mi\u001b[38;5;132;01m}\u001b[39;00m\u001b[38;5;124m]/div/yt-formatted-string/a\u001b[39m\u001b[38;5;124m'\u001b[39m\n\u001b[1;32m---> 32\u001b[0m     element\u001b[38;5;241m=\u001b[39m\u001b[43mdriver\u001b[49m\u001b[38;5;241;43m.\u001b[39;49m\u001b[43mfind_element\u001b[49m\u001b[43m(\u001b[49m\u001b[43mBy\u001b[49m\u001b[38;5;241;43m.\u001b[39;49m\u001b[43mXPATH\u001b[49m\u001b[43m,\u001b[49m\u001b[43mpath\u001b[49m\u001b[43m)\u001b[49m\n\u001b[0;32m     33\u001b[0m     time\u001b[38;5;241m.\u001b[39msleep(\u001b[38;5;241m5\u001b[39m)\n\u001b[0;32m     34\u001b[0m     driver\u001b[38;5;241m.\u001b[39mfind_element(By\u001b[38;5;241m.\u001b[39mXPATH,\u001b[38;5;124mf\u001b[39m\u001b[38;5;124m'\u001b[39m\u001b[38;5;124m/html/body/ytd-app/div[1]/ytd-page-manager/ytd-browse[1]/ytd-two-column-browse-results-renderer/div[1]/ytd-section-list-renderer/div[2]/ytd-item-section-renderer/div[3]/ytd-grid-renderer/div[1]/ytd-grid-playlist-renderer[\u001b[39m\u001b[38;5;132;01m{\u001b[39;00mi\u001b[38;5;132;01m}\u001b[39;00m\u001b[38;5;124m]/div/yt-formatted-string/a\u001b[39m\u001b[38;5;124m'\u001b[39m)\u001b[38;5;241m.\u001b[39mclick()\n",
      "File \u001b[1;32m~\\AppData\\Local\\Programs\\Python\\Python312\\Lib\\site-packages\\selenium\\webdriver\\remote\\webdriver.py:748\u001b[0m, in \u001b[0;36mWebDriver.find_element\u001b[1;34m(self, by, value)\u001b[0m\n\u001b[0;32m    745\u001b[0m     by \u001b[38;5;241m=\u001b[39m By\u001b[38;5;241m.\u001b[39mCSS_SELECTOR\n\u001b[0;32m    746\u001b[0m     value \u001b[38;5;241m=\u001b[39m \u001b[38;5;124mf\u001b[39m\u001b[38;5;124m'\u001b[39m\u001b[38;5;124m[name=\u001b[39m\u001b[38;5;124m\"\u001b[39m\u001b[38;5;132;01m{\u001b[39;00mvalue\u001b[38;5;132;01m}\u001b[39;00m\u001b[38;5;124m\"\u001b[39m\u001b[38;5;124m]\u001b[39m\u001b[38;5;124m'\u001b[39m\n\u001b[1;32m--> 748\u001b[0m \u001b[38;5;28;01mreturn\u001b[39;00m \u001b[38;5;28;43mself\u001b[39;49m\u001b[38;5;241;43m.\u001b[39;49m\u001b[43mexecute\u001b[49m\u001b[43m(\u001b[49m\u001b[43mCommand\u001b[49m\u001b[38;5;241;43m.\u001b[39;49m\u001b[43mFIND_ELEMENT\u001b[49m\u001b[43m,\u001b[49m\u001b[43m \u001b[49m\u001b[43m{\u001b[49m\u001b[38;5;124;43m\"\u001b[39;49m\u001b[38;5;124;43musing\u001b[39;49m\u001b[38;5;124;43m\"\u001b[39;49m\u001b[43m:\u001b[49m\u001b[43m \u001b[49m\u001b[43mby\u001b[49m\u001b[43m,\u001b[49m\u001b[43m \u001b[49m\u001b[38;5;124;43m\"\u001b[39;49m\u001b[38;5;124;43mvalue\u001b[39;49m\u001b[38;5;124;43m\"\u001b[39;49m\u001b[43m:\u001b[49m\u001b[43m \u001b[49m\u001b[43mvalue\u001b[49m\u001b[43m}\u001b[49m\u001b[43m)\u001b[49m[\u001b[38;5;124m\"\u001b[39m\u001b[38;5;124mvalue\u001b[39m\u001b[38;5;124m\"\u001b[39m]\n",
      "File \u001b[1;32m~\\AppData\\Local\\Programs\\Python\\Python312\\Lib\\site-packages\\selenium\\webdriver\\remote\\webdriver.py:354\u001b[0m, in \u001b[0;36mWebDriver.execute\u001b[1;34m(self, driver_command, params)\u001b[0m\n\u001b[0;32m    352\u001b[0m response \u001b[38;5;241m=\u001b[39m \u001b[38;5;28mself\u001b[39m\u001b[38;5;241m.\u001b[39mcommand_executor\u001b[38;5;241m.\u001b[39mexecute(driver_command, params)\n\u001b[0;32m    353\u001b[0m \u001b[38;5;28;01mif\u001b[39;00m response:\n\u001b[1;32m--> 354\u001b[0m     \u001b[38;5;28;43mself\u001b[39;49m\u001b[38;5;241;43m.\u001b[39;49m\u001b[43merror_handler\u001b[49m\u001b[38;5;241;43m.\u001b[39;49m\u001b[43mcheck_response\u001b[49m\u001b[43m(\u001b[49m\u001b[43mresponse\u001b[49m\u001b[43m)\u001b[49m\n\u001b[0;32m    355\u001b[0m     response[\u001b[38;5;124m\"\u001b[39m\u001b[38;5;124mvalue\u001b[39m\u001b[38;5;124m\"\u001b[39m] \u001b[38;5;241m=\u001b[39m \u001b[38;5;28mself\u001b[39m\u001b[38;5;241m.\u001b[39m_unwrap_value(response\u001b[38;5;241m.\u001b[39mget(\u001b[38;5;124m\"\u001b[39m\u001b[38;5;124mvalue\u001b[39m\u001b[38;5;124m\"\u001b[39m, \u001b[38;5;28;01mNone\u001b[39;00m))\n\u001b[0;32m    356\u001b[0m     \u001b[38;5;28;01mreturn\u001b[39;00m response\n",
      "File \u001b[1;32m~\\AppData\\Local\\Programs\\Python\\Python312\\Lib\\site-packages\\selenium\\webdriver\\remote\\errorhandler.py:229\u001b[0m, in \u001b[0;36mErrorHandler.check_response\u001b[1;34m(self, response)\u001b[0m\n\u001b[0;32m    227\u001b[0m         alert_text \u001b[38;5;241m=\u001b[39m value[\u001b[38;5;124m\"\u001b[39m\u001b[38;5;124malert\u001b[39m\u001b[38;5;124m\"\u001b[39m]\u001b[38;5;241m.\u001b[39mget(\u001b[38;5;124m\"\u001b[39m\u001b[38;5;124mtext\u001b[39m\u001b[38;5;124m\"\u001b[39m)\n\u001b[0;32m    228\u001b[0m     \u001b[38;5;28;01mraise\u001b[39;00m exception_class(message, screen, stacktrace, alert_text)  \u001b[38;5;66;03m# type: ignore[call-arg]  # mypy is not smart enough here\u001b[39;00m\n\u001b[1;32m--> 229\u001b[0m \u001b[38;5;28;01mraise\u001b[39;00m exception_class(message, screen, stacktrace)\n",
      "\u001b[1;31mNoSuchElementException\u001b[0m: Message: no such element: Unable to locate element: {\"method\":\"xpath\",\"selector\":\"/html/body/ytd-app/div[1]/ytd-page-manager/ytd-browse[1]/ytd-two-column-browse-results-renderer/div[1]/ytd-section-list-renderer/div[2]/ytd-item-section-renderer/div[3]/ytd-grid-renderer/div[1]/ytd-grid-playlist-renderer[11]/div/yt-formatted-string/a\"}\n  (Session info: chrome=129.0.6668.101); For documentation on this error, please visit: https://www.selenium.dev/documentation/webdriver/troubleshooting/errors#no-such-element-exception\nStacktrace:\n\tGetHandleVerifier [0x00007FF73251B095+29557]\n\t(No symbol) [0x00007FF73248FA50]\n\t(No symbol) [0x00007FF73234B56A]\n\t(No symbol) [0x00007FF73239F695]\n\t(No symbol) [0x00007FF73239F8EC]\n\t(No symbol) [0x00007FF7323EB777]\n\t(No symbol) [0x00007FF7323C71CF]\n\t(No symbol) [0x00007FF7323E851C]\n\t(No symbol) [0x00007FF7323C6F33]\n\t(No symbol) [0x00007FF73239116F]\n\t(No symbol) [0x00007FF7323922D1]\n\tGetHandleVerifier [0x00007FF73284C96D+3378253]\n\tGetHandleVerifier [0x00007FF732898497+3688311]\n\tGetHandleVerifier [0x00007FF73288D1CB+3642539]\n\tGetHandleVerifier [0x00007FF7325DA6B6+813462]\n\t(No symbol) [0x00007FF73249AB5F]\n\t(No symbol) [0x00007FF732496B74]\n\t(No symbol) [0x00007FF732496D10]\n\t(No symbol) [0x00007FF732485C1F]\n\tBaseThreadInitThunk [0x00007FFB096E257D+29]\n\tRtlUserThreadStart [0x00007FFB0AB4AF08+40]\n"
     ]
    }
   ],
   "source": [
    "#  perfectlyyyyyyy fine cidessssssss\n",
    "from selenium import webdriver\n",
    "from selenium.webdriver.common.by import By\n",
    "import time\n",
    "import pandas as pd\n",
    "import numpy as np\n",
    "\n",
    "driver = webdriver.Chrome()\n",
    "channel_name='freecodecamp'\n",
    "driver.get(f\"https://www.youtube.com/@{channel_name}/playlists\")\n",
    "time.sleep(7)  \n",
    "last_height = driver.execute_script(\"return document.documentElement.scrollHeight\")\n",
    "topics=[]\n",
    "initial_height=[]\n",
    "final_height=[]\n",
    "while True:\n",
    "    driver.execute_script(f\"window.scrollTo({last_height}, document.documentElement.scrollHeight);\")\n",
    "    final_height.append(last_height)\n",
    "    time.sleep(7)  \n",
    "    new_height = driver.execute_script(\"return document.documentElement.scrollHeight\")\n",
    "    if new_height == last_height:\n",
    "        break  \n",
    "    last_height = new_height\n",
    "\n",
    "topic=driver.find_elements(By.XPATH,f'//*[@id=\"video-title\"]')\n",
    "for i in topic:\n",
    "    topics.append(i.text)\n",
    "\n",
    "end=len(topics)\n",
    "driver.execute_script(f\"window.scrollTo(0,300);\")\n",
    "time.sleep(10)\n",
    "counter=0\n",
    "for i in range(1,end+1):\n",
    "    path=f'/html/body/ytd-app/div[1]/ytd-page-manager/ytd-browse[1]/ytd-two-column-browse-results-renderer/div[1]/ytd-section-list-renderer/div[2]/ytd-item-section-renderer/div[3]/ytd-grid-renderer/div[1]/ytd-grid-playlist-renderer[{i}]/div/yt-formatted-string/a'\n",
    "    element=driver.find_element(By.XPATH,path)\n",
    "    time.sleep(5)\n",
    "    driver.find_element(By.XPATH,f'/html/body/ytd-app/div[1]/ytd-page-manager/ytd-browse[1]/ytd-two-column-browse-results-renderer/div[1]/ytd-section-list-renderer/div[2]/ytd-item-section-renderer/div[3]/ytd-grid-renderer/div[1]/ytd-grid-playlist-renderer[{i}]/div/yt-formatted-string/a').click()\n",
    "    \n",
    "    time.sleep(5)\n",
    "    last_height = driver.execute_script(\"return document.documentElement.scrollHeight\")\n",
    "    while True:\n",
    "        driver.execute_script(f\"window.scrollTo({last_height}, document.documentElement.scrollHeight);\")\n",
    "        time.sleep(7)  \n",
    "        new_height = driver.execute_script(\"return document.documentElement.scrollHeight\")\n",
    "        if new_height == last_height:\n",
    "            break  \n",
    "        last_height = new_height\n",
    "\n",
    "    title=[]\n",
    "    titles=driver.find_elements(By.XPATH,f'//*[@id=\"meta\"]/h3')\n",
    "    for i in titles:\n",
    "        title.append(i.text)\n",
    "\n",
    "    view=[]\n",
    "    views=driver.find_elements(By.XPATH,f'//*[@id=\"video-info\"]/span[1]')\n",
    "    for i in views:\n",
    "        view.append(i.text)\n",
    "        \n",
    "    duration=[]\n",
    "    durations=driver.find_elements(By.XPATH,f'//*[@id=\"video-info\"]/span[3]')\n",
    "    for i in durations:\n",
    "        duration.append(i.text)\n",
    "    \n",
    "    name=topics[counter]\n",
    "    try:\n",
    "        df=pd.DataFrame({'titles':title,'views':view,'durations':duration})\n",
    "    except:\n",
    "        print(\"some error occured\")\n",
    "    try:\n",
    "        df.to_csv(f\"R:\\\\youyubess\\\\demo5\\\\{name}.csv\",index=False)\n",
    "    except:\n",
    "        df.to_csv(f\"R:\\\\youyubess\\\\demo5\\\\{counter}.csv\",index=False)\n",
    "        \n",
    "    print(f\"{name} data sucessfully downloaded\")\n",
    "    counter+=1\n",
    "    driver.get(f\"https://www.youtube.com/@{channel_name}/playlists\")\n",
    "    time.sleep(5)\n",
    "\n",
    "driver.quit()"
   ]
  },
  {
   "cell_type": "code",
   "execution_count": 2,
   "id": "b89bcb0e-7162-408e-a035-1f125f57dc8a",
   "metadata": {},
   "outputs": [
    {
     "name": "stdout",
     "output_type": "stream",
     "text": [
      "hellow world\n"
     ]
    }
   ],
   "source": [
    "print(\"hellow world\")"
   ]
  },
  {
   "cell_type": "code",
   "execution_count": 5,
   "id": "7a21af55-aac5-4578-86a7-96958e5f0ab5",
   "metadata": {},
   "outputs": [
    {
     "data": {
      "text/plain": [
       "72"
      ]
     },
     "execution_count": 5,
     "metadata": {},
     "output_type": "execute_result"
    }
   ],
   "source": [
    "len(topics)"
   ]
  },
  {
   "cell_type": "code",
   "execution_count": null,
   "id": "9dcfed5f-d263-4040-8963-58d917e3ce92",
   "metadata": {},
   "outputs": [],
   "source": [
    "# /html/body/ytd-app/div[1]/ytd-page-manager/ytd-browse[2]/ytd-two-column-browse-results-renderer/div[1]/ytd-section-list-renderer/div[2]/ytd-item-section-renderer/div[3]/ytd-grid-renderer/div[1]/ytd-grid-playlist-renderer[{i}]/div/yt-formatted-string/a"
   ]
  },
  {
   "cell_type": "code",
   "execution_count": 7,
   "id": "b13b283e-30b2-42a9-8ecb-8cc41b736105",
   "metadata": {},
   "outputs": [],
   "source": [
    "#https://www.youtube.com/playlist?list=PLWKjhJtqVAbn21gs5UnLhCQ82f923WCgM\n",
    "\n",
    "driver = webdriver.Chrome()\n",
    "\n",
    "driver.get(f\"https://www.youtube.com/playlist?list=PLWKjhJtqVAbn21gs5UnLhCQ82f923WCgM\")\n",
    "current_url = driver.current_url\n",
    "time.sleep(7)  \n",
    "driver.quit()"
   ]
  },
  {
   "cell_type": "code",
   "execution_count": 8,
   "id": "5cc94536-e434-4c98-8d39-56350dc68d7d",
   "metadata": {},
   "outputs": [
    {
     "data": {
      "text/plain": [
       "'https://www.youtube.com/playlist?list=PLWKjhJtqVAbn21gs5UnLhCQ82f923WCgM'"
      ]
     },
     "execution_count": 8,
     "metadata": {},
     "output_type": "execute_result"
    }
   ],
   "source": [
    "current_url"
   ]
  },
  {
   "cell_type": "code",
   "execution_count": 9,
   "id": "644c82ac-5fc2-4c8e-a076-06f8ac69af3f",
   "metadata": {},
   "outputs": [],
   "source": [
    "# /html/body/ytd-app/div[1]/ytd-page-manager/ytd-browse[2]/ytd-two-column-browse-results-renderer/div[1]/ytd-section-list-renderer/div[2]/ytd-item-section-renderer/div[3]/ytd-grid-renderer/div[1]/ytd-grid-playlist-renderer[4]/div/yt-formatted-string/a\n",
    "\n",
    "# /html/body/ytd-app/div[1]/ytd-page-manager/ytd-browse[2]/ytd-two-column-browse-results-renderer/div[1]/ytd-section-list-renderer/div[2]/ytd-item-section-renderer/div[3]/ytd-grid-renderer/div[1]/ytd-grid-playlist-renderer[{i}]/div/yt-formatted-string/a"
   ]
  },
  {
   "cell_type": "code",
   "execution_count": null,
   "id": "5147373b-0e9b-4e65-80e2-ae3f5be4515b",
   "metadata": {},
   "outputs": [],
   "source": []
  },
  {
   "cell_type": "code",
   "execution_count": null,
   "id": "94040df0-ab80-4980-9880-a718a4b39db5",
   "metadata": {},
   "outputs": [],
   "source": []
  },
  {
   "cell_type": "code",
   "execution_count": 47,
   "id": "b0b06fea-c740-4673-a5e8-08cf053fa5e8",
   "metadata": {},
   "outputs": [
    {
     "name": "stdout",
     "output_type": "stream",
     "text": [
      "1 data sucessfully downloaded\n",
      "2 data sucessfully downloaded\n",
      "3 data sucessfully downloaded\n",
      "4 data sucessfully downloaded\n",
      "5 data sucessfully downloaded\n",
      "6 data sucessfully downloaded\n",
      "7 data sucessfully downloaded\n",
      "8 data sucessfully downloaded\n",
      "9 data sucessfully downloaded\n",
      "10 data sucessfully downloaded\n",
      "11 data sucessfully downloaded\n",
      "12 data sucessfully downloaded\n",
      "13 data sucessfully downloaded\n",
      "14 data sucessfully downloaded\n",
      "15 data sucessfully downloaded\n",
      "16 data sucessfully downloaded\n",
      "17 data sucessfully downloaded\n",
      "18 data sucessfully downloaded\n",
      "19 data sucessfully downloaded\n",
      "20 data sucessfully downloaded\n",
      "21 data sucessfully downloaded\n",
      "22 data sucessfully downloaded\n",
      "23 data sucessfully downloaded\n",
      "24 data sucessfully downloaded\n",
      "25 data sucessfully downloaded\n",
      "26 data sucessfully downloaded\n",
      "27 data sucessfully downloaded\n",
      "28 data sucessfully downloaded\n",
      "29 data sucessfully downloaded\n",
      "30 data sucessfully downloaded\n",
      "31 data sucessfully downloaded\n",
      "32 data sucessfully downloaded\n",
      "33 data sucessfully downloaded\n",
      "34 data sucessfully downloaded\n",
      "35 data sucessfully downloaded\n",
      "36 data sucessfully downloaded\n",
      "37 data sucessfully downloaded\n",
      "38 data sucessfully downloaded\n",
      "39 data sucessfully downloaded\n",
      "40 data sucessfully downloaded\n",
      "41 data sucessfully downloaded\n",
      "42 data sucessfully downloaded\n"
     ]
    }
   ],
   "source": [
    "# fine fine fine fineeeee \n",
    "topics=[]\n",
    "driver = webdriver.Chrome()\n",
    "channel_name='CodeWithHarry'\n",
    "driver.get(f\"https://www.youtube.com/@{channel_name}/playlists\")\n",
    "time.sleep(7) \n",
    "last_height = driver.execute_script(\"return document.documentElement.scrollHeight\")\n",
    "topics=[]\n",
    "\n",
    "while True:\n",
    "    elements = driver.find_elements(By.XPATH, f'//*[@id=\"view-more\"]/a')\n",
    "    time.sleep(5)\n",
    "    for i in elements:\n",
    "        data=i.get_attribute('href')\n",
    "        topics.append(data)\n",
    "        topics=list(set(topics))\n",
    "    driver.execute_script(f\"window.scrollTo({last_height}, document.documentElement.scrollHeight);\")\n",
    "    time.sleep(7)  \n",
    "    new_height = driver.execute_script(\"return document.documentElement.scrollHeight\")\n",
    "    time.sleep(10)\n",
    "    if new_height == last_height:\n",
    "        break  \n",
    "    last_height = new_height\n",
    "    time.sleep(3)\n",
    "\n",
    "counter=0\n",
    "for i in topics:\n",
    "    driver.get(i)\n",
    "    time.sleep(4)\n",
    "    last_height = driver.execute_script(\"return document.documentElement.scrollHeight\")\n",
    "    while True:\n",
    "        driver.execute_script(f\"window.scrollTo({last_height}, document.documentElement.scrollHeight);\")\n",
    "        time.sleep(3)  \n",
    "        new_height = driver.execute_script(\"return document.documentElement.scrollHeight\")\n",
    "        if new_height == last_height:\n",
    "            break  \n",
    "        last_height = new_height\n",
    "    \n",
    "    title=[]\n",
    "    titles=driver.find_elements(By.XPATH,f'//*[@id=\"meta\"]/h3')\n",
    "    for i in titles:\n",
    "        title.append(i.text)\n",
    "\n",
    "    view=[]\n",
    "    views=driver.find_elements(By.XPATH,f'//*[@id=\"video-info\"]/span[1]')\n",
    "    for i in views:\n",
    "        view.append(i.text)\n",
    "        \n",
    "    duration=[]\n",
    "    durations=driver.find_elements(By.XPATH,f'//*[@id=\"video-info\"]/span[3]')\n",
    "    for i in durations:\n",
    "        duration.append(i.text)\n",
    "    try:\n",
    "        df=pd.DataFrame({'titles':title,'views':view,'durations':duration})\n",
    "    except:\n",
    "        print(\"some error occured\")\n",
    "    try:\n",
    "        df.to_csv(f\"R:\\\\youyubess\\\\demo7\\\\{counter}.csv\",index=False)\n",
    "    except:\n",
    "        df.to_csv(f\"R:\\\\youyubess\\\\demo7\\\\{counter}.csv\",index=False)\n",
    "    counter+=1\n",
    "        \n",
    "    print(f\"{counter} data sucessfully downloaded\")\n",
    "driver.quit()"
   ]
  },
  {
   "cell_type": "code",
   "execution_count": 43,
   "id": "2feabdd0-1cae-4df9-9a50-e89a7ecd42f3",
   "metadata": {},
   "outputs": [
    {
     "data": {
      "text/plain": [
       "72"
      ]
     },
     "execution_count": 43,
     "metadata": {},
     "output_type": "execute_result"
    }
   ],
   "source": [
    "len(topics)"
   ]
  },
  {
   "cell_type": "code",
   "execution_count": 22,
   "id": "1ee46ceb-0e48-40bf-84ff-5e295534f31d",
   "metadata": {},
   "outputs": [
    {
     "data": {
      "text/plain": [
       "72"
      ]
     },
     "execution_count": 22,
     "metadata": {},
     "output_type": "execute_result"
    }
   ],
   "source": [
    "# //*[@id=\"text\"]"
   ]
  },
  {
   "cell_type": "code",
   "execution_count": 1,
   "id": "d616b965-d99d-43f5-83bf-b4f0a1d68b1f",
   "metadata": {},
   "outputs": [
    {
     "name": "stdout",
     "output_type": "stream",
     "text": [
      "Motivational Support - YouTube data sucessfully downloaded\n",
      "Invisible Bio Nuclear War - YouTube data sucessfully downloaded\n",
      "some error occured\n",
      "Career Support - YouTube data sucessfully downloaded\n",
      "Quick Support Short - YouTube data sucessfully downloaded\n",
      "Amazing Fact Support - YouTube data sucessfully downloaded\n",
      "DIGITAL MARKETING - YouTube data sucessfully downloaded\n",
      "Health - YouTube data sucessfully downloaded\n",
      "Technology Support - YouTube data sucessfully downloaded\n",
      "The Earth Ocean - Web Series - YouTube data sucessfully downloaded\n",
      "some error occured\n",
      "Study Support - YouTube data sucessfully downloaded\n",
      "Documentary - YouTube data sucessfully downloaded\n",
      "Innovation - YouTube data sucessfully downloaded\n"
     ]
    }
   ],
   "source": [
    "# fine fine fine fineeeee absoluterly fines \n",
    "\n",
    "from selenium import webdriver\n",
    "from selenium.webdriver.common.by import By\n",
    "import time\n",
    "import pandas as pd\n",
    "import numpy as np\n",
    "import os\n",
    "\n",
    "\n",
    "\n",
    "topics=[]\n",
    "driver = webdriver.Chrome()\n",
    "channel_name='QuickSupport'\n",
    "directory_path = f'R://clean_youyube//youtube//{channel_name}'\n",
    "os.mkdir(directory_path)\n",
    "driver.get(f\"https://www.youtube.com/@{channel_name}/playlists\")\n",
    "time.sleep(7) \n",
    "last_height = driver.execute_script(\"return document.documentElement.scrollHeight\")\n",
    "topics=[]\n",
    "\n",
    "while True:\n",
    "    elements = driver.find_elements(By.XPATH, f'//*[@id=\"view-more\"]/a')\n",
    "    time.sleep(5)\n",
    "    for i in elements:\n",
    "        data=i.get_attribute('href')\n",
    "        topics.append(data)\n",
    "        topics=list(set(topics))\n",
    "    driver.execute_script(f\"window.scrollTo({last_height}, document.documentElement.scrollHeight);\")\n",
    "    time.sleep(7)  \n",
    "    new_height = driver.execute_script(\"return document.documentElement.scrollHeight\")\n",
    "    time.sleep(10)\n",
    "    if new_height == last_height:\n",
    "        break  \n",
    "    last_height = new_height\n",
    "    time.sleep(3)\n",
    "\n",
    "counter=0\n",
    "for i in topics:\n",
    "    driver.get(i)\n",
    "    time.sleep(5)\n",
    "    course_name=driver.title\n",
    "    last_height = driver.execute_script(\"return document.documentElement.scrollHeight\")\n",
    "    while True:\n",
    "        driver.execute_script(f\"window.scrollTo({last_height}, document.documentElement.scrollHeight);\")\n",
    "        time.sleep(3)  \n",
    "        new_height = driver.execute_script(\"return document.documentElement.scrollHeight\")\n",
    "        if new_height == last_height:\n",
    "            break  \n",
    "        last_height = new_height\n",
    "\n",
    "    title=[]\n",
    "    titles=driver.find_elements(By.XPATH,f'//*[@id=\"meta\"]/h3')\n",
    "    for i in titles:\n",
    "        title.append(i.text)\n",
    "\n",
    "    view=[]\n",
    "    views=driver.find_elements(By.XPATH,f'//*[@id=\"video-info\"]/span[1]')\n",
    "    for i in views:\n",
    "        view.append(i.text)\n",
    "        \n",
    "    duration=[]\n",
    "    durations=driver.find_elements(By.XPATH,f'//*[@id=\"video-info\"]/span[3]')\n",
    "    for i in durations:\n",
    "        duration.append(i.text)\n",
    "    try:\n",
    "        df=pd.DataFrame({'titles':title,'views':view,'durations':duration})\n",
    "    except:\n",
    "        print(\"some error occured\")\n",
    "    try:\n",
    "        df.to_csv(f\"R://clean_youyube//youtube//{channel_name}//{course_name}.csv\",index=False)\n",
    "    except:\n",
    "        df.to_csv(f\"R://clean_youyube//youtube//{channel_name}//{counter}.csv\",index=False)\n",
    "    counter+=1\n",
    "        \n",
    "    print(f\"{course_name} data sucessfully downloaded\")\n",
    "driver.quit()"
   ]
  },
  {
   "cell_type": "code",
   "execution_count": 54,
   "id": "7bed2e62-50be-45ba-9d70-9682534556df",
   "metadata": {},
   "outputs": [
    {
     "name": "stdout",
     "output_type": "stream",
     "text": [
      "Server Configuration, Deployment & VPS Tutorials For Beginners - YouTube\n"
     ]
    }
   ],
   "source": [
    "driver = webdriver.Chrome()\n",
    "channel_name='CodeWithHarry'\n",
    "driver.get(f\"https://www.youtube.com/playlist?list=PLu0W_9lII9aiBNXUisDdSmfNbsKq407XC\")\n",
    "time.sleep(7)  #//*[@id=\"page-manager\"]/ytd-browse[3]/yt-page-header-renderer/yt-page-header-view-model/div[2]/div[1]/div/yt-dynamic-text-view-model/h1/span\n",
    "topics=driver.title\n",
    "print(topics)\n"
   ]
  },
  {
   "cell_type": "code",
   "execution_count": null,
   "id": "ee8e7c79-e4dd-40b0-9071-ef3221e8786f",
   "metadata": {},
   "outputs": [],
   "source": []
  },
  {
   "cell_type": "code",
   "execution_count": null,
   "id": "7b6c3bc1-37b2-4a68-9e29-9c05c29efb80",
   "metadata": {},
   "outputs": [],
   "source": []
  },
  {
   "cell_type": "code",
   "execution_count": null,
   "id": "4c995981-29c2-4893-83a9-d098e39f7feb",
   "metadata": {},
   "outputs": [],
   "source": []
  }
 ],
 "metadata": {
  "kernelspec": {
   "display_name": "Python 3 (ipykernel)",
   "language": "python",
   "name": "python3"
  },
  "language_info": {
   "codemirror_mode": {
    "name": "ipython",
    "version": 3
   },
   "file_extension": ".py",
   "mimetype": "text/x-python",
   "name": "python",
   "nbconvert_exporter": "python",
   "pygments_lexer": "ipython3",
   "version": "3.12.6"
  }
 },
 "nbformat": 4,
 "nbformat_minor": 5
}
