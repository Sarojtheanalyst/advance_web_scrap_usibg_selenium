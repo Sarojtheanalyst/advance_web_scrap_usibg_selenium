{
 "cells": [
  {
   "cell_type": "code",
   "execution_count": null,
   "id": "feb6d244-4a21-4f4d-ade6-8cfe0422b972",
   "metadata": {},
   "outputs": [],
   "source": [
    "from selenium import webdriver\n",
    "from selenium.webdriver.common.by import By\n",
    "import time\n",
    "driver = webdriver.Chrome()\n",
    "driver.get(\"https://www.homebaseworks.in/?campaignid=13087222795&adgroupid=137520324412&keyword=online%20earning%20jobs&device=c&gad_source=3&gclid=EAIaIQobChMI6_Kqo7T-iAMVJszCBB25FQZtEAAYASAAEgLdO_D_BwE\")\n"
   ]
  },
  {
   "cell_type": "code",
   "execution_count": 3,
   "id": "4c891589-f4d3-420d-b0fd-cd6a1aeb8f10",
   "metadata": {},
   "outputs": [
    {
     "name": "stdout",
     "output_type": "stream",
     "text": [
      "Collecting selenium\n",
      "  Using cached selenium-4.25.0-py3-none-any.whl.metadata (7.1 kB)\n",
      "Requirement already satisfied: urllib3<3,>=1.26 in c:\\users\\hp\\appdata\\local\\programs\\python\\python312\\lib\\site-packages (from urllib3[socks]<3,>=1.26->selenium) (2.2.3)\n",
      "Collecting trio~=0.17 (from selenium)\n",
      "  Using cached trio-0.26.2-py3-none-any.whl.metadata (8.6 kB)\n",
      "Collecting trio-websocket~=0.9 (from selenium)\n",
      "  Using cached trio_websocket-0.11.1-py3-none-any.whl.metadata (4.7 kB)\n",
      "Requirement already satisfied: certifi>=2021.10.8 in c:\\users\\hp\\appdata\\local\\programs\\python\\python312\\lib\\site-packages (from selenium) (2024.8.30)\n",
      "Collecting typing_extensions~=4.9 (from selenium)\n",
      "  Downloading typing_extensions-4.12.2-py3-none-any.whl.metadata (3.0 kB)\n",
      "Requirement already satisfied: websocket-client~=1.8 in c:\\users\\hp\\appdata\\local\\programs\\python\\python312\\lib\\site-packages (from selenium) (1.8.0)\n",
      "Requirement already satisfied: attrs>=23.2.0 in c:\\users\\hp\\appdata\\local\\programs\\python\\python312\\lib\\site-packages (from trio~=0.17->selenium) (24.2.0)\n",
      "Collecting sortedcontainers (from trio~=0.17->selenium)\n",
      "  Downloading sortedcontainers-2.4.0-py2.py3-none-any.whl.metadata (10 kB)\n",
      "Requirement already satisfied: idna in c:\\users\\hp\\appdata\\local\\programs\\python\\python312\\lib\\site-packages (from trio~=0.17->selenium) (3.10)\n",
      "Collecting outcome (from trio~=0.17->selenium)\n",
      "  Using cached outcome-1.3.0.post0-py2.py3-none-any.whl.metadata (2.6 kB)\n",
      "Requirement already satisfied: sniffio>=1.3.0 in c:\\users\\hp\\appdata\\local\\programs\\python\\python312\\lib\\site-packages (from trio~=0.17->selenium) (1.3.1)\n",
      "Requirement already satisfied: cffi>=1.14 in c:\\users\\hp\\appdata\\local\\programs\\python\\python312\\lib\\site-packages (from trio~=0.17->selenium) (1.17.1)\n",
      "Collecting wsproto>=0.14 (from trio-websocket~=0.9->selenium)\n",
      "  Using cached wsproto-1.2.0-py3-none-any.whl.metadata (5.6 kB)\n",
      "Collecting pysocks!=1.5.7,<2.0,>=1.5.6 (from urllib3[socks]<3,>=1.26->selenium)\n",
      "  Downloading PySocks-1.7.1-py3-none-any.whl.metadata (13 kB)\n",
      "Requirement already satisfied: pycparser in c:\\users\\hp\\appdata\\local\\programs\\python\\python312\\lib\\site-packages (from cffi>=1.14->trio~=0.17->selenium) (2.22)\n",
      "Requirement already satisfied: h11<1,>=0.9.0 in c:\\users\\hp\\appdata\\local\\programs\\python\\python312\\lib\\site-packages (from wsproto>=0.14->trio-websocket~=0.9->selenium) (0.14.0)\n",
      "Using cached selenium-4.25.0-py3-none-any.whl (9.7 MB)\n",
      "Using cached trio-0.26.2-py3-none-any.whl (475 kB)\n",
      "Using cached trio_websocket-0.11.1-py3-none-any.whl (17 kB)\n",
      "Downloading typing_extensions-4.12.2-py3-none-any.whl (37 kB)\n",
      "Downloading PySocks-1.7.1-py3-none-any.whl (16 kB)\n",
      "Using cached wsproto-1.2.0-py3-none-any.whl (24 kB)\n",
      "Using cached outcome-1.3.0.post0-py2.py3-none-any.whl (10 kB)\n",
      "Downloading sortedcontainers-2.4.0-py2.py3-none-any.whl (29 kB)\n",
      "Installing collected packages: sortedcontainers, wsproto, typing_extensions, pysocks, outcome, trio, trio-websocket, selenium\n",
      "Successfully installed outcome-1.3.0.post0 pysocks-1.7.1 selenium-4.25.0 sortedcontainers-2.4.0 trio-0.26.2 trio-websocket-0.11.1 typing_extensions-4.12.2 wsproto-1.2.0\n"
     ]
    }
   ],
   "source": [
    "!pip install selenium\n"
   ]
  },
  {
   "cell_type": "code",
   "execution_count": 151,
   "id": "333efcd1-19f2-468d-9b3b-3aa1136b7f5f",
   "metadata": {},
   "outputs": [
    {
     "name": "stdout",
     "output_type": "stream",
     "text": [
      "Jobs in music and audio are very dynamic in nature. Do you now how to read the scores and develop specialized skills in composing, performing, and conducting ? if yes, this helps them not just to earn a handsome amount but also enjoy their job.\n"
     ]
    }
   ],
   "source": [
    "names=driver.find_element(By.XPATH,\"/html/body/section/main/div[4]/div/div/div[2]/section[1]/div[2]/div[3]\")\n",
    "desc=names.find_element(By.XPATH,\"/html/body/section/main/div[4]/div/div/div[2]/section[1]/div[2]/div[8]/div/div[2]\")\n",
    "salary=names.find_element(By.XPATH,\"/html/body/section/main/div[4]/div/div/div[2]/section[1]/div[2]/div[1]/div/div[1]/div/p\")\n",
    "title=names.find_element(By.XPATH,\"/html/body/section/main/div[4]/div/div/div[2]/section[1]/div[2]/div[1]/div/div[1]/div/h2/a\")\n",
    "print(desc.text)"
   ]
  },
  {
   "cell_type": "code",
   "execution_count": 123,
   "id": "404712f4-af8d-4686-bb78-d975500c90e6",
   "metadata": {},
   "outputs": [
    {
     "name": "stdout",
     "output_type": "stream",
     "text": [
      "Starts at $30 - Rs.2500 per job\n"
     ]
    }
   ],
   "source": [
    "salary=names.find_element(By.XPATH,\"/html/body/section/main/div[4]/div/div/div[2]/section[1]/div[2]/div[8]/div/div[1]/div/p\")\n",
    "print(salary.text)"
   ]
  },
  {
   "cell_type": "code",
   "execution_count": 85,
   "id": "6b8ae51f-f24b-4c4b-82c4-53cdfb67b9bd",
   "metadata": {},
   "outputs": [
    {
     "name": "stdout",
     "output_type": "stream",
     "text": [
      "Survey Jobs\n",
      "Starts at $5 - Rs.400/- per survey\n",
      "It is a kind of market research where you gather the opinion of the target audience through the use of questionnaires and forms. The data collected through these are further subjected to analysis for deriving conclusions.\n",
      "View Details\n"
     ]
    }
   ],
   "source": [
    "# /html/body/section/main/div[4]/div/div/div[2]/section[1]/div[2]/div[2]\n",
    "names=driver.find_element(By.XPATH,\"/html/body/section/main/div[4]/div/div/div[2]/section[1]/div[2]/div[5]\")\n",
    "print(names.text)"
   ]
  },
  {
   "cell_type": "code",
   "execution_count": 171,
   "id": "0d9018df-2994-4f10-9881-637c7ec2707d",
   "metadata": {},
   "outputs": [
    {
     "name": "stdout",
     "output_type": "stream",
     "text": [
      " suceasfully download the datas \n"
     ]
    }
   ],
   "source": [
    "title=[]\n",
    "salary=[]\n",
    "desc=[]\n",
    "for i in range(1,9):\n",
    "    title.append(names.find_element(By.XPATH,f\"/html/body/section/main/div[4]/div/div/div[2]/section[1]/div[2]/div[{i}]/div/div[1]/div/h2/a\").text)\n",
    "    salary.append(names.find_element(By.XPATH,f\"/html/body/section/main/div[4]/div/div/div[2]/section[1]/div[2]/div[{i}]/div/div[1]/div/p\").text)\n",
    "    desc.append(names.find_element(By.XPATH,f\"/html/body/section/main/div[4]/div/div/div[2]/section[1]/div[2]/div[{i}]/div/div[2]\").text)\n",
    "print(\" suceasfully download the datas \")"
   ]
  },
  {
   "cell_type": "code",
   "execution_count": null,
   "id": "f302e94d-4d3d-4aa3-a5c5-c54b977c7ccb",
   "metadata": {},
   "outputs": [],
   "source": [
    "#/html/body/section/main/div[4]/div/div/div[2]/section[1]/div[2]/div[4]"
   ]
  },
  {
   "cell_type": "code",
   "execution_count": 173,
   "id": "ac205e06-6d14-4842-aa26-5f0d7acb48ec",
   "metadata": {},
   "outputs": [],
   "source": [
    "import pandas as pd\n",
    "jobs=pd.DataFrame({'title':title,'salary':salary,'description':desc})"
   ]
  },
  {
   "cell_type": "code",
   "execution_count": 175,
   "id": "b5eb23c2-baa8-494c-a211-2873b4516abd",
   "metadata": {},
   "outputs": [
    {
     "data": {
      "text/html": [
       "<div>\n",
       "<style scoped>\n",
       "    .dataframe tbody tr th:only-of-type {\n",
       "        vertical-align: middle;\n",
       "    }\n",
       "\n",
       "    .dataframe tbody tr th {\n",
       "        vertical-align: top;\n",
       "    }\n",
       "\n",
       "    .dataframe thead th {\n",
       "        text-align: right;\n",
       "    }\n",
       "</style>\n",
       "<table border=\"1\" class=\"dataframe\">\n",
       "  <thead>\n",
       "    <tr style=\"text-align: right;\">\n",
       "      <th></th>\n",
       "      <th>title</th>\n",
       "      <th>salary</th>\n",
       "      <th>description</th>\n",
       "    </tr>\n",
       "  </thead>\n",
       "  <tbody>\n",
       "    <tr>\n",
       "      <th>0</th>\n",
       "      <td>Data Entry Jobs</td>\n",
       "      <td>Starts at $6 - Rs.500/- per Job</td>\n",
       "      <td>This involves posting classified ads on the we...</td>\n",
       "    </tr>\n",
       "    <tr>\n",
       "      <th>1</th>\n",
       "      <td>Content Writing Jobs</td>\n",
       "      <td>Starts at $20 - Rs.1500/- per Job</td>\n",
       "      <td>Content writing jobs are one of the highly dem...</td>\n",
       "    </tr>\n",
       "    <tr>\n",
       "      <th>2</th>\n",
       "      <td>Online Typing Jobs</td>\n",
       "      <td>Starts at $12 - Rs.1000/- per Job</td>\n",
       "      <td>This generally involves the data entry or docu...</td>\n",
       "    </tr>\n",
       "    <tr>\n",
       "      <th>3</th>\n",
       "      <td>Translation Jobs</td>\n",
       "      <td>Starts at $7 - Rs.500/- per Job</td>\n",
       "      <td>Know more than one language? Do you have a deg...</td>\n",
       "    </tr>\n",
       "    <tr>\n",
       "      <th>4</th>\n",
       "      <td>Survey Jobs</td>\n",
       "      <td>Starts at $5 - Rs.400/- per survey</td>\n",
       "      <td>It is a kind of market research where you gath...</td>\n",
       "    </tr>\n",
       "    <tr>\n",
       "      <th>5</th>\n",
       "      <td>Tutoring Jobs</td>\n",
       "      <td>Starts at $10 - Rs.750/- per day</td>\n",
       "      <td>This job involves teaching various subjects to...</td>\n",
       "    </tr>\n",
       "    <tr>\n",
       "      <th>6</th>\n",
       "      <td>Video &amp; Animation Jobs</td>\n",
       "      <td>Starts at $50 - Rs.4000/- per job</td>\n",
       "      <td>Multimedia artists have an amazing career scop...</td>\n",
       "    </tr>\n",
       "    <tr>\n",
       "      <th>7</th>\n",
       "      <td>Music &amp; Audio Jobs</td>\n",
       "      <td>Starts at $30 - Rs.2500 per job</td>\n",
       "      <td>Jobs in music and audio are very dynamic in na...</td>\n",
       "    </tr>\n",
       "  </tbody>\n",
       "</table>\n",
       "</div>"
      ],
      "text/plain": [
       "                    title                              salary  \\\n",
       "0         Data Entry Jobs     Starts at $6 - Rs.500/- per Job   \n",
       "1    Content Writing Jobs   Starts at $20 - Rs.1500/- per Job   \n",
       "2      Online Typing Jobs   Starts at $12 - Rs.1000/- per Job   \n",
       "3        Translation Jobs     Starts at $7 - Rs.500/- per Job   \n",
       "4             Survey Jobs  Starts at $5 - Rs.400/- per survey   \n",
       "5           Tutoring Jobs    Starts at $10 - Rs.750/- per day   \n",
       "6  Video & Animation Jobs   Starts at $50 - Rs.4000/- per job   \n",
       "7      Music & Audio Jobs     Starts at $30 - Rs.2500 per job   \n",
       "\n",
       "                                         description  \n",
       "0  This involves posting classified ads on the we...  \n",
       "1  Content writing jobs are one of the highly dem...  \n",
       "2  This generally involves the data entry or docu...  \n",
       "3  Know more than one language? Do you have a deg...  \n",
       "4  It is a kind of market research where you gath...  \n",
       "5  This job involves teaching various subjects to...  \n",
       "6  Multimedia artists have an amazing career scop...  \n",
       "7  Jobs in music and audio are very dynamic in na...  "
      ]
     },
     "execution_count": 175,
     "metadata": {},
     "output_type": "execute_result"
    }
   ],
   "source": [
    "jobs"
   ]
  },
  {
   "cell_type": "code",
   "execution_count": 179,
   "id": "43b9003b-eb0a-4ed3-8869-c1a752107565",
   "metadata": {},
   "outputs": [],
   "source": [
    "jobs.to_csv(\"R:\\\\jobs.csv\",index=False)"
   ]
  },
  {
   "cell_type": "code",
   "execution_count": null,
   "id": "c3616e7a-d801-459a-badb-2644f9c3379c",
   "metadata": {},
   "outputs": [],
   "source": []
  }
 ],
 "metadata": {
  "kernelspec": {
   "display_name": "Python 3 (ipykernel)",
   "language": "python",
   "name": "python3"
  },
  "language_info": {
   "codemirror_mode": {
    "name": "ipython",
    "version": 3
   },
   "file_extension": ".py",
   "mimetype": "text/x-python",
   "name": "python",
   "nbconvert_exporter": "python",
   "pygments_lexer": "ipython3",
   "version": "3.12.6"
  }
 },
 "nbformat": 4,
 "nbformat_minor": 5
}
