{
 "cells": [
  {
   "cell_type": "code",
   "execution_count": 25,
   "id": "eca48395-3c3e-490c-8d9a-4453d8ec75d9",
   "metadata": {},
   "outputs": [
    {
     "name": "stdout",
     "output_type": "stream",
     "text": [
      "\n",
      "________________________________________________________\n",
      "\n",
      "________________________________________________________\n",
      "\n",
      "________________________________________________________\n",
      "\n",
      "________________________________________________________\n",
      "\n",
      "________________________________________________________\n",
      "\n",
      "________________________________________________________\n",
      "\n",
      "________________________________________________________\n",
      "\n",
      "________________________________________________________\n",
      "\n",
      "________________________________________________________\n",
      "\n",
      "________________________________________________________\n",
      "\n",
      "________________________________________________________\n",
      "\n",
      "________________________________________________________\n",
      "\n",
      "________________________________________________________\n",
      "\n",
      "________________________________________________________\n",
      "\n",
      "________________________________________________________\n"
     ]
    }
   ],
   "source": [
    "from selenium import webdriver\n",
    "from selenium.webdriver.common.by import By\n",
    "import time\n",
    "course_name=[]\n",
    "duration=[]\n",
    "old_price=[]\n",
    "new_price=[]\n",
    "driver = webdriver.Chrome()\n",
    "driver.get(\"https://sipalaya.com/all-courses-2/\")\n",
    "time.sleep(10)\n",
    "for i in range(1,16):\n",
    "    try:\n",
    "        course_name.append(driver.find_element(By.XPATH, f'/html/body/div[1]/div[2]/div[1]/div/div/div[2]/div/div[{i}]/div[3]/h3/a').text)\n",
    "        duration.append(driver.find_element(By.XPATH, f'/html/body/div[1]/div[2]/div[1]/div/div/div[2]/div/div[{i}]/div[3]/div[2]/div/span[2]').text)# duration hr\n",
    "        old_price.append(driver.find_element(By.XPATH, f'/html/body/div[1]/div[2]/div[1]/div/div/div[2]/div/div[{i}]/div[4]/div/div[1]/span/del/span/bdi').text)#old price\n",
    "        new_price.append(driver.find_element(By.XPATH, f'/html/body/div[1]/div[2]/div[1]/div/div/div[2]/div/div[{i}]/div[4]/div/div[1]/span/ins/span/bdi').text)# new price\n",
    "        \n",
    "    except:\n",
    "        print('data not found')\n",
    "driver.quit()   \n",
    "\n",
    "\n"
   ]
  },
  {
   "cell_type": "code",
   "execution_count": null,
   "id": "3512cd81-cf83-4239-b4a2-afecfb36e890",
   "metadata": {},
   "outputs": [],
   "source": [
    "# course name\n",
    "# /html/body/div[1]/div[2]/div[1]/div/div/div[2]/div/div[i]/div[3]/h3/a  # course names \n",
    "# /html/body/div[1]/div[2]/div[1]/div/div/div[2]/div/div[2]/div[3]/h3/a"
   ]
  },
  {
   "cell_type": "code",
   "execution_count": null,
   "id": "95598f18-8393-4f9a-b264-97ccebd0bd42",
   "metadata": {},
   "outputs": [],
   "source": [
    "# duration\n",
    "# /html/body/div[1]/div[2]/div[1]/div/div/div[2]/div/div[i]/div[3]/div[2]/div/span[2]\n",
    "# /html/body/div[1]/div[2]/div[1]/div/div/div[2]/div/div[2]/div[3]/div[2]/div/span[2]"
   ]
  },
  {
   "cell_type": "code",
   "execution_count": null,
   "id": "a0f062d8-69d1-49c7-815f-c3525c474363",
   "metadata": {},
   "outputs": [],
   "source": [
    "# old price \n",
    "# /html/body/div[1]/div[2]/div[1]/div/div/div[2]/div/div[i]/div[4]/div/div[1]/span/del/span/bdi\n",
    "# /html/body/div[1]/div[2]/div[1]/div/div/div[2]/div/div[2]/div[4]/div/div[1]/span/del/span/bdi"
   ]
  },
  {
   "cell_type": "code",
   "execution_count": null,
   "id": "8da1d492-494b-441d-b72f-1197589d1144",
   "metadata": {},
   "outputs": [],
   "source": [
    "# new price \n",
    "# /html/body/div[1]/div[2]/div[1]/div/div/div[2]/div/div[i]/div[4]/div/div[1]/span/ins/span/bdi\n",
    "# /html/body/div[1]/div[2]/div[1]/div/div/div[2]/div/div[2]/div[4]/div/div[1]/span/ins/span/bdi"
   ]
  },
  {
   "cell_type": "code",
   "execution_count": 27,
   "id": "8f3ee17b-9517-4cc2-8f60-cb1f0304e544",
   "metadata": {},
   "outputs": [],
   "source": [
    "import pandas as pd"
   ]
  },
  {
   "cell_type": "code",
   "execution_count": 33,
   "id": "1901748a-811c-406b-a0c5-b475c283026e",
   "metadata": {},
   "outputs": [],
   "source": [
    "df=pd.DataFrame({'course':course_name,'duration':duration,'old_price':old_price,'new_price':new_price})"
   ]
  },
  {
   "cell_type": "code",
   "execution_count": 41,
   "id": "3c88481d-9d05-4a16-9f20-08c914b2a02a",
   "metadata": {},
   "outputs": [
    {
     "data": {
      "text/html": [
       "<div>\n",
       "<style scoped>\n",
       "    .dataframe tbody tr th:only-of-type {\n",
       "        vertical-align: middle;\n",
       "    }\n",
       "\n",
       "    .dataframe tbody tr th {\n",
       "        vertical-align: top;\n",
       "    }\n",
       "\n",
       "    .dataframe thead th {\n",
       "        text-align: right;\n",
       "    }\n",
       "</style>\n",
       "<table border=\"1\" class=\"dataframe\">\n",
       "  <thead>\n",
       "    <tr style=\"text-align: right;\">\n",
       "      <th></th>\n",
       "      <th>course</th>\n",
       "      <th>duration</th>\n",
       "      <th>old_price</th>\n",
       "      <th>new_price</th>\n",
       "    </tr>\n",
       "  </thead>\n",
       "  <tbody>\n",
       "    <tr>\n",
       "      <th>0</th>\n",
       "      <td>MS Office Package | 2 Months</td>\n",
       "      <td>99h</td>\n",
       "      <td>Rs.24,999</td>\n",
       "      <td>Rs.9,999</td>\n",
       "    </tr>\n",
       "    <tr>\n",
       "      <th>1</th>\n",
       "      <td>Web Design | HTML , CSS &amp; JS | 2 Months</td>\n",
       "      <td>100h</td>\n",
       "      <td>Rs.24,999</td>\n",
       "      <td>Rs.9,999</td>\n",
       "    </tr>\n",
       "    <tr>\n",
       "      <th>2</th>\n",
       "      <td>C Programming | 2 Months</td>\n",
       "      <td>100h</td>\n",
       "      <td>Rs.19,999</td>\n",
       "      <td>Rs.9,999</td>\n",
       "    </tr>\n",
       "    <tr>\n",
       "      <th>3</th>\n",
       "      <td>UI / UX Design | 2.5 Months</td>\n",
       "      <td>100h</td>\n",
       "      <td>Rs.19,999</td>\n",
       "      <td>Rs.9,999</td>\n",
       "    </tr>\n",
       "    <tr>\n",
       "      <th>4</th>\n",
       "      <td>App Development with Flutter | 2.5 Months</td>\n",
       "      <td>100h</td>\n",
       "      <td>Rs.19,999</td>\n",
       "      <td>Rs.9,999</td>\n",
       "    </tr>\n",
       "    <tr>\n",
       "      <th>5</th>\n",
       "      <td>Java With Spring &amp; Hibernate | 3 Months</td>\n",
       "      <td>100h</td>\n",
       "      <td>Rs.19,999</td>\n",
       "      <td>Rs.9,999</td>\n",
       "    </tr>\n",
       "    <tr>\n",
       "      <th>6</th>\n",
       "      <td>Job Oriented Accounting ,Income , Tax &amp; Vat , ...</td>\n",
       "      <td>100h</td>\n",
       "      <td>Rs.19,999</td>\n",
       "      <td>Rs.9,999</td>\n",
       "    </tr>\n",
       "    <tr>\n",
       "      <th>7</th>\n",
       "      <td>PHP With Laravel | 2.5 Months</td>\n",
       "      <td>100h</td>\n",
       "      <td>Rs.19,999</td>\n",
       "      <td>Rs.9,999</td>\n",
       "    </tr>\n",
       "    <tr>\n",
       "      <th>8</th>\n",
       "      <td>Artificial Intelligence: Shape Future Innovati...</td>\n",
       "      <td>100h</td>\n",
       "      <td>Rs.19,999</td>\n",
       "      <td>Rs.9,999</td>\n",
       "    </tr>\n",
       "    <tr>\n",
       "      <th>9</th>\n",
       "      <td>Graphic Design | 2.5 Months</td>\n",
       "      <td>100h</td>\n",
       "      <td>Rs.19,999</td>\n",
       "      <td>Rs.9,999</td>\n",
       "    </tr>\n",
       "    <tr>\n",
       "      <th>10</th>\n",
       "      <td>Python With Data Science | 3 Months</td>\n",
       "      <td>100h</td>\n",
       "      <td>Rs.19,999</td>\n",
       "      <td>Rs.9,999</td>\n",
       "    </tr>\n",
       "    <tr>\n",
       "      <th>11</th>\n",
       "      <td>Frontend Development With React JS | 2.5 Months</td>\n",
       "      <td>97h</td>\n",
       "      <td>Rs.19,999</td>\n",
       "      <td>Rs.9,999</td>\n",
       "    </tr>\n",
       "    <tr>\n",
       "      <th>12</th>\n",
       "      <td>MERN Stack | 3 Months</td>\n",
       "      <td>100h</td>\n",
       "      <td>Rs.29,999</td>\n",
       "      <td>Rs.19,999</td>\n",
       "    </tr>\n",
       "    <tr>\n",
       "      <th>13</th>\n",
       "      <td>Full Stack Web Development in Python With Djan...</td>\n",
       "      <td>100h</td>\n",
       "      <td>Rs.19,999</td>\n",
       "      <td>Rs.9,999</td>\n",
       "    </tr>\n",
       "    <tr>\n",
       "      <th>14</th>\n",
       "      <td>Physical / Online Digital Marketing Training |...</td>\n",
       "      <td>100h</td>\n",
       "      <td>Rs.19,999</td>\n",
       "      <td>Rs.9,999</td>\n",
       "    </tr>\n",
       "  </tbody>\n",
       "</table>\n",
       "</div>"
      ],
      "text/plain": [
       "                                               course duration  old_price  \\\n",
       "0                        MS Office Package | 2 Months      99h  Rs.24,999   \n",
       "1             Web Design | HTML , CSS & JS | 2 Months     100h  Rs.24,999   \n",
       "2                            C Programming | 2 Months     100h  Rs.19,999   \n",
       "3                         UI / UX Design | 2.5 Months     100h  Rs.19,999   \n",
       "4           App Development with Flutter | 2.5 Months     100h  Rs.19,999   \n",
       "5             Java With Spring & Hibernate | 3 Months     100h  Rs.19,999   \n",
       "6   Job Oriented Accounting ,Income , Tax & Vat , ...     100h  Rs.19,999   \n",
       "7                       PHP With Laravel | 2.5 Months     100h  Rs.19,999   \n",
       "8   Artificial Intelligence: Shape Future Innovati...     100h  Rs.19,999   \n",
       "9                         Graphic Design | 2.5 Months     100h  Rs.19,999   \n",
       "10                Python With Data Science | 3 Months     100h  Rs.19,999   \n",
       "11    Frontend Development With React JS | 2.5 Months      97h  Rs.19,999   \n",
       "12                              MERN Stack | 3 Months     100h  Rs.29,999   \n",
       "13  Full Stack Web Development in Python With Djan...     100h  Rs.19,999   \n",
       "14  Physical / Online Digital Marketing Training |...     100h  Rs.19,999   \n",
       "\n",
       "    new_price  \n",
       "0    Rs.9,999  \n",
       "1    Rs.9,999  \n",
       "2    Rs.9,999  \n",
       "3    Rs.9,999  \n",
       "4    Rs.9,999  \n",
       "5    Rs.9,999  \n",
       "6    Rs.9,999  \n",
       "7    Rs.9,999  \n",
       "8    Rs.9,999  \n",
       "9    Rs.9,999  \n",
       "10   Rs.9,999  \n",
       "11   Rs.9,999  \n",
       "12  Rs.19,999  \n",
       "13   Rs.9,999  \n",
       "14   Rs.9,999  "
      ]
     },
     "execution_count": 41,
     "metadata": {},
     "output_type": "execute_result"
    }
   ],
   "source": [
    "df"
   ]
  },
  {
   "cell_type": "code",
   "execution_count": 47,
   "id": "bebedbf4-f914-4734-b0d7-9215a46f7fc7",
   "metadata": {},
   "outputs": [
    {
     "name": "stdout",
     "output_type": "stream",
     "text": [
      "save the files sucessfully\n"
     ]
    }
   ],
   "source": [
    "df.to_csv(\"R:\\\\django sipalaye\\\\sipalaye_course.csv\",index=False)\n",
    "print(\"save the files sucessfully\")"
   ]
  },
  {
   "cell_type": "code",
   "execution_count": null,
   "id": "ded6b061-824d-4735-8804-bb2e037ad3f9",
   "metadata": {},
   "outputs": [],
   "source": []
  },
  {
   "cell_type": "code",
   "execution_count": null,
   "id": "448c2823-f562-40f4-8960-d536c78d60dd",
   "metadata": {},
   "outputs": [],
   "source": [
    "# element = driver.find_element(By.XPATH, '//your/xpath/here')\n",
    "\n",
    "# Get the attribute value (e.g., 'href', 'src', 'class', etc.)\n",
    "attribute_value = element.get_attribute('href')\n",
    "element = driver.find_element(By.XPATH, '//your/xpat')"
   ]
  },
  {
   "cell_type": "code",
   "execution_count": 19,
   "id": "274948c7-ec9c-4880-b0e9-69c37e7e8fac",
   "metadata": {},
   "outputs": [
    {
     "name": "stdout",
     "output_type": "stream",
     "text": [
      "https://sipalaya.com/wp-content/uploads/2024/04/Blue-Illustrative-Employee-Training-Presentation-2.png\n",
      "https://sipalaya.com/wp-content/uploads/2024/04/Blue-Illustrative-Employee-Training-Presentation-1-1.png\n",
      "https://sipalaya.com/wp-content/uploads/2024/04/Blue-Illustrative-Employee-Training-Presentation.png\n",
      "https://sipalaya.com/wp-content/uploads/2024/03/UI-UX.png\n",
      "https://sipalaya.com/wp-content/uploads/2024/03/Dart-Flutter.png\n",
      "https://sipalaya.com/wp-content/uploads/2024/03/Blue-Illustrative-Employee-Training-Presentation-1.png\n",
      "https://sipalaya.com/wp-content/uploads/2024/03/Accounting.png\n",
      "https://sipalaya.com/wp-content/uploads/2024/03/Blue-Illustrative-Employee-Training-Presentation.png\n",
      "https://sipalaya.com/wp-content/uploads/2024/02/AI-Featured-Image.png\n",
      "https://sipalaya.com/wp-content/uploads/2024/02/Blue-Illustrative-Employee-Training-Presentation-1.png\n",
      "https://sipalaya.com/wp-content/uploads/2024/02/Blue-Illustrative-Employee-Training-Presentation.png\n",
      "https://sipalaya.com/wp-content/uploads/2024/02/Blue-Illustrative-Employee-Training-Presentation-5.png\n",
      "data:image/png;base64,iVBORw0KGgoAAAANSUhEUgAAAwAAAAGwAQAAAAA2rz9/AAAAAnRSTlMAAHaTzTgAAAA/SURBVHja7cExAQAAAMKg9U9tCy+gAAAAAAAAAAAAAAAAAAAAAAAAAAAAAAAAAAAAAAAAAAAAAAAAAAAAAOBno7AAAVtX7k0AAAAASUVORK5CYII=\n",
      "data:image/png;base64,iVBORw0KGgoAAAANSUhEUgAAAwAAAAGwAQAAAAA2rz9/AAAAAnRSTlMAAHaTzTgAAAA/SURBVHja7cExAQAAAMKg9U9tCy+gAAAAAAAAAAAAAAAAAAAAAAAAAAAAAAAAAAAAAAAAAAAAAAAAAAAAAOBno7AAAVtX7k0AAAAASUVORK5CYII=\n",
      "data:image/png;base64,iVBORw0KGgoAAAANSUhEUgAAAwAAAAGwAQAAAAA2rz9/AAAAAnRSTlMAAHaTzTgAAAA/SURBVHja7cExAQAAAMKg9U9tCy+gAAAAAAAAAAAAAAAAAAAAAAAAAAAAAAAAAAAAAAAAAAAAAAAAAAAAAOBno7AAAVtX7k0AAAAASUVORK5CYII=\n"
     ]
    }
   ],
   "source": [
    "from selenium import webdriver\n",
    "from selenium.webdriver.common.by import By\n",
    "import time\n",
    "driver = webdriver.Chrome()\n",
    "img_url=[]\n",
    "driver.get(\"https://sipalaya.com/all-courses-2/\")\n",
    "time.sleep(10)\n",
    "for i in range(1,16):\n",
    "    try:\n",
    "        element = driver.find_element(By.XPATH, f'/html/body/div[1]/div[2]/div[1]/div/div/div[2]/div/div[{i}]/div[1]/a/div/img')\n",
    "        attribute_value = element.get_attribute('src')\n",
    "        img_url.append(attribute_value)\n",
    "        print(attribute_value)\n",
    "    except:\n",
    "        image_url.append(\"image not found\")\n",
    "        print(\"data not found\")\n",
    "driver.quit()"
   ]
  },
  {
   "cell_type": "code",
   "execution_count": null,
   "id": "d2e3ba6a-0ccd-45a2-9d6c-fd02ce9456b9",
   "metadata": {},
   "outputs": [],
   "source": [
    "# /html/body/div[1]data:image/png;base64,iVBORw0KGgoAAAANSUhEUgAAAwAAAAGwAQAAAAA2rz9/AAAAAnRSTlMAAHaTzTgAAAA/SURBVHja7cExAQAAAMKg9U9tCy+gAAAAAAAAAAAAAAAAAAAAAAAAAAAAAAAAAAAAAAAAAAAAAAAAAAAAAOBno7AAAVtX7k0AAAAASUVORK5CYII=/div[2]/div[1]/div/div/div[2]/div/div[2]/div[1]/a/div/img\n",
    "# /html/body/div[1]/div[2]/div[1]/div/div/div[2]/div/div[i]/div[1]/a/div/img\n",
    "# /html/body/div[1]/div[2]/div[1]/div/div/div[2]/div/div[15]/div[1]/a/div/img"
   ]
  },
  {
   "cell_type": "code",
   "execution_count": null,
   "id": "b6a881bb-935a-4f30-89e4-b1e8a04e66de",
   "metadata": {},
   "outputs": [],
   "source": [
    "# download all the images from the course names \n"
   ]
  },
  {
   "cell_type": "code",
   "execution_count": 15,
   "id": "2a8c1673-21e2-45f4-9dfe-08aaf0a1c9f1",
   "metadata": {},
   "outputs": [
    {
     "data": {
      "text/plain": [
       "['https://sipalaya.com/wp-content/uploads/2024/04/Blue-Illustrative-Employee-Training-Presentation-2.png',\n",
       " 'https://sipalaya.com/wp-content/uploads/2024/04/Blue-Illustrative-Employee-Training-Presentation-1-1.png',\n",
       " 'https://sipalaya.com/wp-content/uploads/2024/04/Blue-Illustrative-Employee-Training-Presentation.png',\n",
       " 'https://sipalaya.com/wp-content/uploads/2024/03/UI-UX.png',\n",
       " 'https://sipalaya.com/wp-content/uploads/2024/03/Dart-Flutter.png',\n",
       " 'https://sipalaya.com/wp-content/uploads/2024/03/Blue-Illustrative-Employee-Training-Presentation-1.png',\n",
       " 'https://sipalaya.com/wp-content/uploads/2024/03/Accounting.png',\n",
       " 'https://sipalaya.com/wp-content/uploads/2024/03/Blue-Illustrative-Employee-Training-Presentation.png',\n",
       " 'https://sipalaya.com/wp-content/uploads/2024/02/AI-Featured-Image.png',\n",
       " 'https://sipalaya.com/wp-content/uploads/2024/02/Blue-Illustrative-Employee-Training-Presentation-1.png',\n",
       " 'https://sipalaya.com/wp-content/uploads/2024/02/Blue-Illustrative-Employee-Training-Presentation.png',\n",
       " 'https://sipalaya.com/wp-content/uploads/2024/02/Blue-Illustrative-Employee-Training-Presentation-5.png',\n",
       " 'data:image/png;base64,iVBORw0KGgoAAAANSUhEUgAAAwAAAAGwAQAAAAA2rz9/AAAAAnRSTlMAAHaTzTgAAAA/SURBVHja7cExAQAAAMKg9U9tCy+gAAAAAAAAAAAAAAAAAAAAAAAAAAAAAAAAAAAAAAAAAAAAAAAAAAAAAOBno7AAAVtX7k0AAAAASUVORK5CYII=',\n",
       " 'data:image/png;base64,iVBORw0KGgoAAAANSUhEUgAAAwAAAAGwAQAAAAA2rz9/AAAAAnRSTlMAAHaTzTgAAAA/SURBVHja7cExAQAAAMKg9U9tCy+gAAAAAAAAAAAAAAAAAAAAAAAAAAAAAAAAAAAAAAAAAAAAAAAAAAAAAOBno7AAAVtX7k0AAAAASUVORK5CYII=',\n",
       " 'data:image/png;base64,iVBORw0KGgoAAAANSUhEUgAAAwAAAAGwAQAAAAA2rz9/AAAAAnRSTlMAAHaTzTgAAAA/SURBVHja7cExAQAAAMKg9U9tCy+gAAAAAAAAAAAAAAAAAAAAAAAAAAAAAAAAAAAAAAAAAAAAAAAAAAAAAOBno7AAAVtX7k0AAAAASUVORK5CYII=']"
      ]
     },
     "execution_count": 15,
     "metadata": {},
     "output_type": "execute_result"
    }
   ],
   "source": [
    "img_url"
   ]
  },
  {
   "cell_type": "code",
   "execution_count": 17,
   "id": "bd58421c-e3aa-451d-85cf-924eef3bd4fe",
   "metadata": {},
   "outputs": [
    {
     "data": {
      "text/plain": [
       "'https://sipalaya.com/wp-content/uploads/2023/10/Blue-Illustrative-Employee-Training-Presentation-4.png'"
      ]
     },
     "execution_count": 17,
     "metadata": {},
     "output_type": "execute_result"
    }
   ],
   "source": [
    "\"https://sipalaya.com/wp-content/uploads/2023/10/Blue-Illustrative-Employee-Training-Presentation-4.png\""
   ]
  },
  {
   "cell_type": "code",
   "execution_count": null,
   "id": "059747fb-ccac-4f43-9009-a9b440904eae",
   "metadata": {},
   "outputs": [],
   "source": []
  },
  {
   "cell_type": "code",
   "execution_count": null,
   "id": "6b58d240-9dc1-43b9-9e42-5c954a38fbc0",
   "metadata": {},
   "outputs": [],
   "source": []
  },
  {
   "cell_type": "code",
   "execution_count": null,
   "id": "307f6b87-a9b5-4d85-96b8-9cf6d3edc855",
   "metadata": {},
   "outputs": [],
   "source": []
  }
 ],
 "metadata": {
  "kernelspec": {
   "display_name": "Python 3 (ipykernel)",
   "language": "python",
   "name": "python3"
  },
  "language_info": {
   "codemirror_mode": {
    "name": "ipython",
    "version": 3
   },
   "file_extension": ".py",
   "mimetype": "text/x-python",
   "name": "python",
   "nbconvert_exporter": "python",
   "pygments_lexer": "ipython3",
   "version": "3.12.4"
  }
 },
 "nbformat": 4,
 "nbformat_minor": 5
}
