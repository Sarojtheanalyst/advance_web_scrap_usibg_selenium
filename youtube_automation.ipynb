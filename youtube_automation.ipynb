{
 "cells": [
  {
   "cell_type": "code",
   "execution_count": 25,
   "id": "124b885b-52fc-4733-ba1b-efecbc99f365",
   "metadata": {},
   "outputs": [
    {
     "name": "stdout",
     "output_type": "stream",
     "text": [
      "Finally the most awaited song !!!! totally worth it !!!\n",
      "\n",
      "\n",
      "ইমান ধুনীয়া নেপালী সংগীত ।। নেপাল খন চাগে এই গীতটিৰ দৰে সুন্দৰ ।। Maan korta he NEPAL ghumne ko , Nepali bhai behen ke sath milkar is gaane ko feel karne ka..what a beautiful song ️️ , I listen 10 times a day\n",
      "\n",
      "\n",
      "I see a lot of comments coming from India. Thank you for the love. Soon we plan to release songs yall can understand too \n",
      "\n",
      "\n",
      "Listening from South Korea 🇰🇷 \n",
      "Love from Bangladesh 🇧🇩\n",
      "\n",
      "\n",
      "यति मिठो गीत प्रस्तुत गर्नुभएकोमा मित्र Sushant KC लाई धेरै बधाई साथै शुभकामना\n",
      "\n",
      "\n",
      "Sounds so beautiful Masterpiece  Cheers  \n",
      "Hits Millions Now \n",
      "\n",
      "\n",
      "The lyrics take my heart and soul to a a different realm,\n",
      "\n",
      "\"उडीउडी मन भाग्छ किन\n",
      "तिम्रैतिर? हेर, भन, के गरूँ म?\n",
      "\n",
      "मुस्कानले तिम्रो मेरो मन सारङ्गीझैँ\n",
      "आज बज्न थाल्यो, भन, के गरूँ म? के गरूँ?\"\n",
      "\n",
      "\n",
      "Watching from Australia 🇦🇺 born in Nepal 🇳🇵 Shushant KC is my all time favorite Nepali singer not only because of this song,also because he acts perfect and has a lot of energy to sing during every song release actively(if you disagree don’t hate it’s just my personal opinion)\n",
      "\n",
      "\n",
      "Watching from INDIA 🇮🇳... Touched my heart \n",
      "\n",
      "\n",
      "Love you shusant sir \n",
      "From India \n",
      "Ye song sunkar man khush ho gya bhuat dami song h \n",
      "\n",
      "\n",
      "Really appreciate his hard work️\n",
      "Master piece ️\n",
      "\n",
      "\n",
      "Who is ready to honor Sushant KC as one of the best singers of Nepal\n",
      "?\n",
      "\n",
      "\n",
      "Nepal’s first contemporary singer plus dancer! A treat to watch!! Anna Sharma looked beautiful!! And this couple looks promising!️\n",
      "\n",
      "\n",
      "The perfect line doesnot .... \n",
      "2:23 \n",
      "\"Timro ra mero bhet bho sanjog le vannchhau ki ? \n",
      "Niyati nai timrai lagi lekhnu raichha yo geet.\"\n",
      "\n",
      "The wait was worthy.\n",
      "\n",
      "\n",
      "Perfect Time,\n",
      "Perfect Song,\n",
      "Perfect Couples,\n",
      "Perfect Chemistry \n",
      "\n",
      "\n",
      "यहाँकाे गित, शुब्द, संगिहरू अाज सम्म अाइपुग्दा अत्यन्तै राम्राे  रहदै अाएकाे छ । याे गित पनि अत्यन्तै उत्कृष्ट, अानन्दित बनाएकाे छ नेपालि संञ्गितक क्षेत्रमा यहाँकाे उदाहरणिय कार्य हुदै अाएकाे छ। यस कार्यलाइ निरन्तर्ता दिनुहाेला । यहाका उतराेउतर प्रगतिकाेकामना सहित जिवनमा सफताकाे शुभकामना ।\n",
      "\n",
      "\n",
      "Beautiful song with love from 🇮🇳\n",
      "\n",
      "\n",
      "Finally, the wait is over.\n",
      "Thanks for dropping this masterpiece \n",
      "\n",
      "\n",
      "Sushant.. Kc bringing nepali music industry to next level... Love from India 🇮🇳\n",
      "\n",
      "\n",
      "This song is my one of the fav . This touches the heart especially    who are in love.\n",
      "Love from India 🇮🇳 🇳🇵\n",
      "\n",
      "\n"
     ]
    },
    {
     "ename": "NoSuchElementException",
     "evalue": "Message: no such element: Unable to locate element: {\"method\":\"xpath\",\"selector\":\"/html/body/ytd-app/div[1]/ytd-page-manager/ytd-watch-flexy/div[5]/div[1]/div/div[2]/ytd-comments/ytd-item-section-renderer/div[3]/ytd-comment-thread-renderer[21]/ytd-comment-view-model/div[3]/div[2]/ytd-expander/div\"}\n  (Session info: chrome=129.0.6668.90); For documentation on this error, please visit: https://www.selenium.dev/documentation/webdriver/troubleshooting/errors#no-such-element-exception\nStacktrace:\n\tGetHandleVerifier [0x00007FF6A727B095+29557]\n\t(No symbol) [0x00007FF6A71EFA50]\n\t(No symbol) [0x00007FF6A70AB56A]\n\t(No symbol) [0x00007FF6A70FF695]\n\t(No symbol) [0x00007FF6A70FF8EC]\n\t(No symbol) [0x00007FF6A714B777]\n\t(No symbol) [0x00007FF6A71271CF]\n\t(No symbol) [0x00007FF6A714851C]\n\t(No symbol) [0x00007FF6A7126F33]\n\t(No symbol) [0x00007FF6A70F116F]\n\t(No symbol) [0x00007FF6A70F22D1]\n\tGetHandleVerifier [0x00007FF6A75AC96D+3378253]\n\tGetHandleVerifier [0x00007FF6A75F8497+3688311]\n\tGetHandleVerifier [0x00007FF6A75ED1CB+3642539]\n\tGetHandleVerifier [0x00007FF6A733A6B6+813462]\n\t(No symbol) [0x00007FF6A71FAB5F]\n\t(No symbol) [0x00007FF6A71F6B74]\n\t(No symbol) [0x00007FF6A71F6D10]\n\t(No symbol) [0x00007FF6A71E5C1F]\n\tBaseThreadInitThunk [0x00007FFB096E257D+29]\n\tRtlUserThreadStart [0x00007FFB0AB4AF08+40]\n",
     "output_type": "error",
     "traceback": [
      "\u001b[1;31m---------------------------------------------------------------------------\u001b[0m",
      "\u001b[1;31mNoSuchElementException\u001b[0m                    Traceback (most recent call last)",
      "Cell \u001b[1;32mIn[25], line 14\u001b[0m\n\u001b[0;32m     12\u001b[0m \u001b[38;5;28;01mwhile\u001b[39;00m \u001b[38;5;28;01mTrue\u001b[39;00m:\n\u001b[0;32m     13\u001b[0m     \u001b[38;5;28;01mfor\u001b[39;00m i \u001b[38;5;129;01min\u001b[39;00m \u001b[38;5;28mrange\u001b[39m(\u001b[38;5;241m1\u001b[39m,\u001b[38;5;241m100\u001b[39m):\n\u001b[1;32m---> 14\u001b[0m         datas\u001b[38;5;241m=\u001b[39m\u001b[43mdriver\u001b[49m\u001b[38;5;241;43m.\u001b[39;49m\u001b[43mfind_element\u001b[49m\u001b[43m(\u001b[49m\u001b[43mBy\u001b[49m\u001b[38;5;241;43m.\u001b[39;49m\u001b[43mXPATH\u001b[49m\u001b[43m,\u001b[49m\u001b[43m \u001b[49m\u001b[38;5;124;43mf\u001b[39;49m\u001b[38;5;124;43m'\u001b[39;49m\u001b[38;5;124;43m/html/body/ytd-app/div[1]/ytd-page-manager/ytd-watch-flexy/div[5]/div[1]/div/div[2]/ytd-comments/ytd-item-section-renderer/div[3]/ytd-comment-thread-renderer[\u001b[39;49m\u001b[38;5;132;43;01m{\u001b[39;49;00m\u001b[43mi\u001b[49m\u001b[38;5;132;43;01m}\u001b[39;49;00m\u001b[38;5;124;43m]/ytd-comment-view-model/div[3]/div[2]/ytd-expander/div\u001b[39;49m\u001b[38;5;124;43m'\u001b[39;49m\u001b[43m)\u001b[49m\u001b[38;5;241m.\u001b[39mtext\n\u001b[0;32m     15\u001b[0m         \u001b[38;5;28mprint\u001b[39m(datas)\n\u001b[0;32m     16\u001b[0m         commentS\u001b[38;5;241m.\u001b[39mappend(datas)\n",
      "File \u001b[1;32m~\\AppData\\Local\\Programs\\Python\\Python312\\Lib\\site-packages\\selenium\\webdriver\\remote\\webdriver.py:748\u001b[0m, in \u001b[0;36mWebDriver.find_element\u001b[1;34m(self, by, value)\u001b[0m\n\u001b[0;32m    745\u001b[0m     by \u001b[38;5;241m=\u001b[39m By\u001b[38;5;241m.\u001b[39mCSS_SELECTOR\n\u001b[0;32m    746\u001b[0m     value \u001b[38;5;241m=\u001b[39m \u001b[38;5;124mf\u001b[39m\u001b[38;5;124m'\u001b[39m\u001b[38;5;124m[name=\u001b[39m\u001b[38;5;124m\"\u001b[39m\u001b[38;5;132;01m{\u001b[39;00mvalue\u001b[38;5;132;01m}\u001b[39;00m\u001b[38;5;124m\"\u001b[39m\u001b[38;5;124m]\u001b[39m\u001b[38;5;124m'\u001b[39m\n\u001b[1;32m--> 748\u001b[0m \u001b[38;5;28;01mreturn\u001b[39;00m \u001b[38;5;28;43mself\u001b[39;49m\u001b[38;5;241;43m.\u001b[39;49m\u001b[43mexecute\u001b[49m\u001b[43m(\u001b[49m\u001b[43mCommand\u001b[49m\u001b[38;5;241;43m.\u001b[39;49m\u001b[43mFIND_ELEMENT\u001b[49m\u001b[43m,\u001b[49m\u001b[43m \u001b[49m\u001b[43m{\u001b[49m\u001b[38;5;124;43m\"\u001b[39;49m\u001b[38;5;124;43musing\u001b[39;49m\u001b[38;5;124;43m\"\u001b[39;49m\u001b[43m:\u001b[49m\u001b[43m \u001b[49m\u001b[43mby\u001b[49m\u001b[43m,\u001b[49m\u001b[43m \u001b[49m\u001b[38;5;124;43m\"\u001b[39;49m\u001b[38;5;124;43mvalue\u001b[39;49m\u001b[38;5;124;43m\"\u001b[39;49m\u001b[43m:\u001b[49m\u001b[43m \u001b[49m\u001b[43mvalue\u001b[49m\u001b[43m}\u001b[49m\u001b[43m)\u001b[49m[\u001b[38;5;124m\"\u001b[39m\u001b[38;5;124mvalue\u001b[39m\u001b[38;5;124m\"\u001b[39m]\n",
      "File \u001b[1;32m~\\AppData\\Local\\Programs\\Python\\Python312\\Lib\\site-packages\\selenium\\webdriver\\remote\\webdriver.py:354\u001b[0m, in \u001b[0;36mWebDriver.execute\u001b[1;34m(self, driver_command, params)\u001b[0m\n\u001b[0;32m    352\u001b[0m response \u001b[38;5;241m=\u001b[39m \u001b[38;5;28mself\u001b[39m\u001b[38;5;241m.\u001b[39mcommand_executor\u001b[38;5;241m.\u001b[39mexecute(driver_command, params)\n\u001b[0;32m    353\u001b[0m \u001b[38;5;28;01mif\u001b[39;00m response:\n\u001b[1;32m--> 354\u001b[0m     \u001b[38;5;28;43mself\u001b[39;49m\u001b[38;5;241;43m.\u001b[39;49m\u001b[43merror_handler\u001b[49m\u001b[38;5;241;43m.\u001b[39;49m\u001b[43mcheck_response\u001b[49m\u001b[43m(\u001b[49m\u001b[43mresponse\u001b[49m\u001b[43m)\u001b[49m\n\u001b[0;32m    355\u001b[0m     response[\u001b[38;5;124m\"\u001b[39m\u001b[38;5;124mvalue\u001b[39m\u001b[38;5;124m\"\u001b[39m] \u001b[38;5;241m=\u001b[39m \u001b[38;5;28mself\u001b[39m\u001b[38;5;241m.\u001b[39m_unwrap_value(response\u001b[38;5;241m.\u001b[39mget(\u001b[38;5;124m\"\u001b[39m\u001b[38;5;124mvalue\u001b[39m\u001b[38;5;124m\"\u001b[39m, \u001b[38;5;28;01mNone\u001b[39;00m))\n\u001b[0;32m    356\u001b[0m     \u001b[38;5;28;01mreturn\u001b[39;00m response\n",
      "File \u001b[1;32m~\\AppData\\Local\\Programs\\Python\\Python312\\Lib\\site-packages\\selenium\\webdriver\\remote\\errorhandler.py:229\u001b[0m, in \u001b[0;36mErrorHandler.check_response\u001b[1;34m(self, response)\u001b[0m\n\u001b[0;32m    227\u001b[0m         alert_text \u001b[38;5;241m=\u001b[39m value[\u001b[38;5;124m\"\u001b[39m\u001b[38;5;124malert\u001b[39m\u001b[38;5;124m\"\u001b[39m]\u001b[38;5;241m.\u001b[39mget(\u001b[38;5;124m\"\u001b[39m\u001b[38;5;124mtext\u001b[39m\u001b[38;5;124m\"\u001b[39m)\n\u001b[0;32m    228\u001b[0m     \u001b[38;5;28;01mraise\u001b[39;00m exception_class(message, screen, stacktrace, alert_text)  \u001b[38;5;66;03m# type: ignore[call-arg]  # mypy is not smart enough here\u001b[39;00m\n\u001b[1;32m--> 229\u001b[0m \u001b[38;5;28;01mraise\u001b[39;00m exception_class(message, screen, stacktrace)\n",
      "\u001b[1;31mNoSuchElementException\u001b[0m: Message: no such element: Unable to locate element: {\"method\":\"xpath\",\"selector\":\"/html/body/ytd-app/div[1]/ytd-page-manager/ytd-watch-flexy/div[5]/div[1]/div/div[2]/ytd-comments/ytd-item-section-renderer/div[3]/ytd-comment-thread-renderer[21]/ytd-comment-view-model/div[3]/div[2]/ytd-expander/div\"}\n  (Session info: chrome=129.0.6668.90); For documentation on this error, please visit: https://www.selenium.dev/documentation/webdriver/troubleshooting/errors#no-such-element-exception\nStacktrace:\n\tGetHandleVerifier [0x00007FF6A727B095+29557]\n\t(No symbol) [0x00007FF6A71EFA50]\n\t(No symbol) [0x00007FF6A70AB56A]\n\t(No symbol) [0x00007FF6A70FF695]\n\t(No symbol) [0x00007FF6A70FF8EC]\n\t(No symbol) [0x00007FF6A714B777]\n\t(No symbol) [0x00007FF6A71271CF]\n\t(No symbol) [0x00007FF6A714851C]\n\t(No symbol) [0x00007FF6A7126F33]\n\t(No symbol) [0x00007FF6A70F116F]\n\t(No symbol) [0x00007FF6A70F22D1]\n\tGetHandleVerifier [0x00007FF6A75AC96D+3378253]\n\tGetHandleVerifier [0x00007FF6A75F8497+3688311]\n\tGetHandleVerifier [0x00007FF6A75ED1CB+3642539]\n\tGetHandleVerifier [0x00007FF6A733A6B6+813462]\n\t(No symbol) [0x00007FF6A71FAB5F]\n\t(No symbol) [0x00007FF6A71F6B74]\n\t(No symbol) [0x00007FF6A71F6D10]\n\t(No symbol) [0x00007FF6A71E5C1F]\n\tBaseThreadInitThunk [0x00007FFB096E257D+29]\n\tRtlUserThreadStart [0x00007FFB0AB4AF08+40]\n"
     ]
    }
   ],
   "source": [
    "from selenium import webdriver\n",
    "from selenium.webdriver.common.by import By\n",
    "import time\n",
    "driver = webdriver.Chrome()\n",
    "driver.get(\"https://www.youtube.com/watch?v=Sh8ZYHnb86c\")\n",
    "time.sleep(20)\n",
    "commentS=[]\n",
    "image_element =driver.find_element(By.XPATH, '/html/body/ytd-app/div[1]/ytd-page-manager/ytd-watch-flexy/div[5]/div[1]/div/div[2]/ytd-watch-metadata/div/div[1]/h1/yt-formatted-string').text\n",
    "driver.execute_script(\"window.scrollBy(0, 400);\") \n",
    "time.sleep(20)\n",
    "counter=0\n",
    "while True:\n",
    "    for i in range(1,20):\n",
    "        datas=driver.find_element(By.XPATH, f'/html/body/ytd-app/div[1]/ytd-page-manager/ytd-watch-flexy/div[5]/div[1]/div/div[2]/ytd-comments/ytd-item-section-renderer/div[3]/ytd-comment-thread-renderer[{i}]/ytd-comment-view-model/div[3]/div[2]/ytd-expander/div').text\n",
    "        print(datas)\n",
    "        commentS.append(datas)\n",
    "        print(\"\\n\") \n",
    "        time.sleep(10)\n",
    "    driver.execute_script(\"window.scrollTo(0, document.documentElement.scrollHeight);\")\n",
    "    time.sleep(30)\n",
    "    counter+=1\n",
    "\n",
    "    if counter==5:\n",
    "        break\n",
    "driver.quit()\n"
   ]
  },
  {
   "cell_type": "code",
   "execution_count": null,
   "id": "eb6261df-c00a-4ce3-8b49-c7347b49bf91",
   "metadata": {},
   "outputs": [],
   "source": [
    "# /html/body/ytd-app/div[1]/ytd-page-manager/ytd-watch-flexy/div[5]/div[1]/div/div[2]/ytd-comments/ytd-item-section-renderer/div[3]/ytd-comment-thread-renderer[1]/ytd-comment-view-model/div[3]/div[2]/ytd-expander/div/yt-attributed-string/span\n",
    "# /html/body/ytd-app/div[1]/ytd-page-manager/ytd-watch-flexy/div[5]/div[1]/div/div[2]/ytd-comments/ytd-item-section-renderer/div[3]/ytd-comment-thread-renderer[5]/ytd-comment-view-model/div[3]/div[2]/ytd-expander/div/yt-attributed-string/span"
   ]
  },
  {
   "cell_type": "code",
   "execution_count": 27,
   "id": "95b4eaae-0dca-4926-8e93-96731a2a6484",
   "metadata": {},
   "outputs": [
    {
     "data": {
      "text/plain": [
       "20"
      ]
     },
     "execution_count": 27,
     "metadata": {},
     "output_type": "execute_result"
    }
   ],
   "source": [
    "#/html/body/ytd-app/div[1]/ytd-page-manager/ytd-watch-flexy/div[5]/div[1]/div/div[2]/ytd-comments/ytd-item-section-renderer/div[3]/ytd-comment-thread-renderer[24]/ytd-comment-view-model/div[3]/div[2]/ytd-expander/div/yt-attributed-string/span\n",
    "len(commentS)"
   ]
  },
  {
   "cell_type": "code",
   "execution_count": 24,
   "id": "9c6188d1-6882-43d2-954b-31ca7461b949",
   "metadata": {},
   "outputs": [
    {
     "name": "stdout",
     "output_type": "stream",
     "text": [
      "Finally the most awaited song !!!! totally worth it !!!\n",
      "I see a lot of comments coming from India. Thank you for the love. Soon we plan to release songs yall can understand too \n",
      "Sounds so beautiful Masterpiece  Cheers  \n",
      "Hits Millions Now \n",
      "Watching from Australia 🇦🇺 born in Nepal 🇳🇵 Shushant KC is my all time favorite Nepali singer not only because of this song,also because he acts perfect and has a lot of energy to sing during every song release actively(if you disagree don’t hate it’s just my personal opinion)\n",
      "यति मिठो गीत प्रस्तुत गर्नुभएकोमा मित्र Sushant KC लाई धेरै बधाई साथै शुभकामना\n",
      "ইমান ধুনীয়া নেপালী সংগীত ।। নেপাল খন চাগে এই গীতটিৰ দৰে সুন্দৰ ।। Maan korta he NEPAL ghumne ko , Nepali bhai behen ke sath milkar is gaane ko feel karne ka..what a beautiful song ️️ , I listen 10 times a day\n",
      "The lyrics take my heart and soul to a a different realm,\n",
      "\n",
      "\"उडीउडी मन भाग्छ किन\n",
      "तिम्रैतिर? हेर, भन, के गरूँ म?\n",
      "\n",
      "मुस्कानले तिम्रो मेरो मन सारङ्गीझैँ\n",
      "आज बज्न थाल्यो, भन, के गरूँ म? के गरूँ?\"\n",
      "Listening from South Korea 🇰🇷 \n",
      "Love from Bangladesh 🇧🇩\n",
      "Really appreciate his hard work️\n",
      "Master piece ️\n",
      "Nepal’s first contemporary singer plus dancer! A treat to watch!! Anna Sharma looked beautiful!! And this couple looks promising!️\n",
      "The perfect line doesnot .... \n",
      "2:23 \n",
      "\"Timro ra mero bhet bho sanjog le vannchhau ki ? \n",
      "Niyati nai timrai lagi lekhnu raichha yo geet.\"\n",
      "\n",
      "The wait was worthy.\n",
      "I'm mexican, I have been in Kathmandu for 10 days. This is a beautiful place. I'm dating a nepalí man who I met the third day I was here. Everything since I landed in this country has been perfect. People is so kind and respectful. All my love to Nepal.\n",
      "I remember those days when i used to listen raw cover of this song by Aakar Joshi, Now here's the official one, thankyou for bringing this mesmerizing song, Sushant Dai is gem🇳🇵\n",
      "Sushant.. Kc bringing nepali music industry to next level... Love from India 🇮🇳\n",
      "Watching from INDIA 🇮🇳... Touched my heart \n",
      "यहाँकाे गित, शुब्द, संगिहरू अाज सम्म अाइपुग्दा अत्यन्तै राम्राे  रहदै अाएकाे छ । याे गित पनि अत्यन्तै उत्कृष्ट, अानन्दित बनाएकाे छ नेपालि संञ्गितक क्षेत्रमा यहाँकाे उदाहरणिय कार्य हुदै अाएकाे छ। यस कार्यलाइ निरन्तर्ता दिनुहाेला । यहाका उतराेउतर प्रगतिकाेकामना सहित जिवनमा सफताकाे शुभकामना ।\n",
      "Finally, the wait is over.\n",
      "Thanks for dropping this masterpiece \n",
      "Finally \n",
      "The most awaited song. A masterpiece by Sushant KC  ️️️\n",
      "And choreography \n",
      "Who is ready to honor Sushant KC as one of the best singers of Nepal\n",
      "?\n",
      "Came here from TikTok . Now I fall in love with this song . Nepali songs always hits different! Love from Bangladesh 🇧🇩️\n"
     ]
    }
   ],
   "source": [
    "for i in comment:\n",
    "    print(i)\n",
    "    "
   ]
  },
  {
   "cell_type": "code",
   "execution_count": null,
   "id": "69dfe8df-4200-4aa5-8a43-b191699a76bf",
   "metadata": {},
   "outputs": [],
   "source": []
  },
  {
   "cell_type": "code",
   "execution_count": null,
   "id": "3ad479a6-faee-41db-b4de-8f420408ac7a",
   "metadata": {},
   "outputs": [],
   "source": [
    "from selenium import webdriver\n",
    "from selenium.webdriver.common.by import By\n",
    "import time\n",
    "\n",
    "# Initialize the WebDriver\n",
    "driver = webdriver.Chrome()\n",
    "\n",
    "# Open the YouTube video\n",
    "video_url = 'https://www.youtube.com/watch?v=Sh8ZYHnb86c'  # Replace with your video URL\n",
    "driver.get(video_url)\n",
    "\n",
    "# Wait for the page to load\n",
    "time.sleep(20)  # Adjust if necessary\n",
    "\n",
    "# Scroll down to load comments\n",
    "last_height = driver.execute_script(\"return document.documentElement.scrollHeight\")\n",
    "\n",
    "while True:\n",
    "    # Scroll down to the bottom\n",
    "    driver.execute_script(\"window.scrollTo(0, document.documentElement.scrollHeight);\")\n",
    "    \n",
    "    # Wait for new comments to load\n",
    "    time.sleep(2)\n",
    "\n",
    "    # Calculate new scroll height and compare with last scroll height\n",
    "    new_height = driver.execute_script(\"return document.documentElement.scrollHeight\")\n",
    "    if new_height == last_height:\n",
    "        break  # No new content loaded\n",
    "    last_height = new_height\n",
    "\n",
    "# Extract comments\n",
    "comments = []\n",
    "comment_elements = driver.find_elements(By.XPATH, '')\n",
    "\n",
    "for comment in comment_elements:\n",
    "    comments.append(comment.text)\n",
    "\n",
    "# Print or save comments\n",
    "for comment in comments:\n",
    "    print(comment)\n",
    "\n",
    "# Close the WebDriver\n",
    "driver.quit()\n"
   ]
  },
  {
   "cell_type": "code",
   "execution_count": 26,
   "id": "8248263c-39c3-4e33-8cd6-423e3450d793",
   "metadata": {},
   "outputs": [
    {
     "data": {
      "text/plain": [
       "20"
      ]
     },
     "execution_count": 26,
     "metadata": {},
     "output_type": "execute_result"
    }
   ],
   "source": [
    "len(commentS)"
   ]
  },
  {
   "cell_type": "code",
   "execution_count": null,
   "id": "8088a7a6-3b12-471d-891b-e3b5f5bf9e62",
   "metadata": {},
   "outputs": [],
   "source": []
  },
  {
   "cell_type": "code",
   "execution_count": null,
   "id": "545ea17b-8085-40cb-b014-d376c77b089d",
   "metadata": {},
   "outputs": [],
   "source": []
  },
  {
   "cell_type": "code",
   "execution_count": null,
   "id": "f0aa3884-9b07-4622-8688-281a18679509",
   "metadata": {},
   "outputs": [],
   "source": []
  },
  {
   "cell_type": "code",
   "execution_count": null,
   "id": "f917f6b7-a9df-484d-bf4d-26d8e4351c27",
   "metadata": {},
   "outputs": [],
   "source": []
  }
 ],
 "metadata": {
  "kernelspec": {
   "display_name": "Python 3 (ipykernel)",
   "language": "python",
   "name": "python3"
  },
  "language_info": {
   "codemirror_mode": {
    "name": "ipython",
    "version": 3
   },
   "file_extension": ".py",
   "mimetype": "text/x-python",
   "name": "python",
   "nbconvert_exporter": "python",
   "pygments_lexer": "ipython3",
   "version": "3.12.6"
  }
 },
 "nbformat": 4,
 "nbformat_minor": 5
}
