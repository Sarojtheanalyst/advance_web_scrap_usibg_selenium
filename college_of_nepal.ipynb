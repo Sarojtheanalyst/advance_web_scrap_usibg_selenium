{
 "cells": [
  {
   "cell_type": "code",
   "execution_count": 1,
   "id": "187a65af-1deb-4256-b93c-beae62e8d74b",
   "metadata": {},
   "outputs": [
    {
     "name": "stdout",
     "output_type": "stream",
     "text": [
      "scrap the data 1 pages sucrssfully \n",
      "scrap the data 2 pages sucrssfully \n",
      "scrap the data 3 pages sucrssfully \n",
      "scrap the data 4 pages sucrssfully \n",
      "scrap the data 5 pages sucrssfully \n",
      "scrap the data 6 pages sucrssfully \n",
      "scrap the data 7 pages sucrssfully \n",
      "scrap the data 8 pages sucrssfully \n",
      "scrap the data 9 pages sucrssfully \n",
      "scrap the data 10 pages sucrssfully \n",
      "scrap the data 11 pages sucrssfully \n",
      "scrap the data 12 pages sucrssfully \n",
      "scrap the data 13 pages sucrssfully \n",
      "scrap the data 14 pages sucrssfully \n"
     ]
    }
   ],
   "source": [
    "# fines \n",
    "from selenium import webdriver\n",
    "from selenium.webdriver.common.by import By\n",
    "import time\n",
    "title=[]\n",
    "location=[]\n",
    "\n",
    "type=[]\n",
    "\n",
    "driver = webdriver.Chrome()\n",
    "for j in range(1,15):\n",
    "    driver.get(f\"https://edusanjal.com/college/affiliation/tribhuvan-university/district/kathmandu,lalitpur,bhaktapur/international/false/?page={j}\")\n",
    "    time.sleep(5)\n",
    "    for i in range(1,25):\n",
    "        try:\n",
    "            title.append(driver.find_element(By.XPATH, f'/html/body/div[1]/div[2]/div[2]/div[2]/div[2]/div[1]/div/div[{i}]/div/a').text)\n",
    "        except:\n",
    "            title.append(\"not found\")\n",
    "        try:\n",
    "            location.append(driver.find_element(By.XPATH, f\"/html/body/div[1]/div[2]/div[2]/div[2]/div[2]/div[1]/div/div[{i}]/div/ul/li[2]/span/span[2]\").text)\n",
    "        except:\n",
    "            location.append(\"unknown location\")\n",
    "        \n",
    "        try:\n",
    "            type.append(driver.find_element(By.XPATH, f\"/html/body/div[1]/div[2]/div[2]/div[2]/div[2]/div[1]/div/div[{i}]/div/ul/li[1]/span/span[2]\").text)\n",
    "        except:\n",
    "            type.append(\"not given\")\n",
    "    print(f\"scrap the data {j} pages sucrssfully \")\n",
    "driver.quit()\n",
    "\n"
   ]
  },
  {
   "cell_type": "code",
   "execution_count": 5,
   "id": "a8f0b2dd-477d-4f2f-ab42-7300642c6682",
   "metadata": {},
   "outputs": [],
   "source": [
    "import pandas as pd\n",
    "\n",
    "df=pd.DataFrame({'college_name':title,'location':location,'university':type})"
   ]
  },
  {
   "cell_type": "code",
   "execution_count": null,
   "id": "2d403751-c64f-41f6-bd29-f41f97fb8550",
   "metadata": {},
   "outputs": [],
   "source": [
    "# /html/body/div[1]/div[2]/div[2]/div[2]/div[2]/div[1]/div/div[{i}]/div/a               -- college names \n",
    "# /html/body/div[1]/div[2]/div[2]/div[2]/div[2]/div[1]/div/div[{i}]/div/ul/li[1]/span/span[2]    -- affilated \n",
    "# /html/body/div[1]/div[2]/div[2]/div[2]/div[2]/div[1]/div/div[{i}]/div/ul/li[2]/span/span[2]    -- locations"
   ]
  },
  {
   "cell_type": "code",
   "execution_count": 7,
   "id": "aeb5d79e-bbfe-41eb-8c59-b8bb43a5fa97",
   "metadata": {},
   "outputs": [
    {
     "name": "stdout",
     "output_type": "stream",
     "text": [
      " saves sucessfully\n"
     ]
    }
   ],
   "source": [
    "df.to_csv(\"R:\\\\New folder (2)\\\\college of nepal\\\\ktm_bhaktapur_lalitpur.csv\",index=False)\n",
    "print(\" saves sucessfully\")"
   ]
  },
  {
   "cell_type": "code",
   "execution_count": null,
   "id": "b2b6ac5d-b226-4725-9516-feedc54048f1",
   "metadata": {},
   "outputs": [],
   "source": []
  }
 ],
 "metadata": {
  "kernelspec": {
   "display_name": "Python 3 (ipykernel)",
   "language": "python",
   "name": "python3"
  },
  "language_info": {
   "codemirror_mode": {
    "name": "ipython",
    "version": 3
   },
   "file_extension": ".py",
   "mimetype": "text/x-python",
   "name": "python",
   "nbconvert_exporter": "python",
   "pygments_lexer": "ipython3",
   "version": "3.12.6"
  }
 },
 "nbformat": 4,
 "nbformat_minor": 5
}
