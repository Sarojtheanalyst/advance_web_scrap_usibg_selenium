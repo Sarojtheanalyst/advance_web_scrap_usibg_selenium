{
 "cells": [
  {
   "cell_type": "code",
   "execution_count": null,
   "id": "2d1547d0-ebca-4d17-9544-5944e35804f9",
   "metadata": {},
   "outputs": [],
   "source": [
    "\n",
    "from selenium import webdriver\n",
    "from selenium.webdriver.common.by import By\n",
    "import time\n",
    "\n",
    "# Set up the WebDriver\n",
    "driver = webdriver.Chrome()\n",
    "\n",
    "# Open the initial page\n",
    "driver.get(\"https://sipalaya.com/all-courses-2/\")\n",
    "time.sleep(5)\n",
    "\n",
    "for i in range(1, 16):\n",
    "    try:\n",
    "        # Construct the XPath for the course link\n",
    "        course_link_xpath = f'/html/body/div[1]/div[2]/div[1]/div/div/div[2]/div/div[{i}]/div[3]/h3/a'\n",
    "\n",
    "        # Allow some time for the element to be present\n",
    "        time.sleep(2)\n",
    "\n",
    "        # Find the course link\n",
    "        course_link = driver.find_element(By.XPATH, course_link_xpath)\n",
    "\n",
    "        print(\" this code is executed\")\n",
    "        driver.execute_script(\"arguments[0].scrollIntoView(true);\", course_link)\n",
    "        time.sleep(3)  # Wait a moment after scrolling\n",
    "        driver.execute_script(\"arguments[0].click();\", course_link)\n",
    "        time.sleep(5)\n",
    "        print(\" this code is terminated\")\n",
    "\n",
    "        # Fetch the image element text\n",
    "        image_element_xpath = '/html/body/div[1]/div[2]/div/div/div/main/div[2]/div[2]/div[1]/div[2]'\n",
    "        image_element = driver.find_element(By.XPATH, image_element_xpath).text\n",
    "        print(image_element)\n",
    "        print(\"\\n\\n\")\n",
    "\n",
    "        # Navigate back to the courses page\n",
    "        driver.get(\"https://sipalaya.com/all-courses-2/\")\n",
    "        time.sleep(5)  # Wait for the page to load again\n",
    "\n",
    "    except Exception as e:\n",
    "        print(f\"Exception occurred at index {i}: {e}\")\n",
    "        driver.get(\"https://sipalaya.com/all-courses-2/\")\n",
    "        time.sleep(4)  # Wait for the page to load\n",
    "\n",
    "# Close the browser\n",
    "driver.quit()"
   ]
  },
  {
   "cell_type": "code",
   "execution_count": null,
   "id": "5df3e11d-1581-40ee-af6c-71b5cc7309ac",
   "metadata": {},
   "outputs": [],
   "source": []
  },
  {
   "cell_type": "code",
   "execution_count": 8,
   "id": "f07863df-993b-4509-8380-a93b753d29d2",
   "metadata": {},
   "outputs": [],
   "source": [
    "from selenium import webdriver\n",
    "from selenium.webdriver.common.by import By\n",
    "import time\n",
    "\n",
    "# Set up the WebDriver\n",
    "driver = webdriver.Chrome()\n",
    "\n",
    "# Open the initial page\n",
    "driver.get(\"https://sipalaya.com/all-courses-2/\")\n",
    "time.sleep(5)\n",
    "\n",
    "\n",
    "element = driver.find_element(By.XPATH, f'/html/body/div[1]/div[2]/div[1]/div/div/div[2]/div/div[8]/div[3]/h3/a')  # Change to your element's identifier\n",
    "driver.execute_script(\" return arguments[0].scrollIntoView();\", element)\n",
    "\n",
    "time.sleep(10)\n",
    "\n",
    "\n",
    "driver.quit()"
   ]
  },
  {
   "cell_type": "code",
   "execution_count": null,
   "id": "65f0fbcf-39c2-4e22-91cb-6331353e0267",
   "metadata": {},
   "outputs": [],
   "source": [
    "time.sleep("
   ]
  }
 ],
 "metadata": {
  "kernelspec": {
   "display_name": "Python 3 (ipykernel)",
   "language": "python",
   "name": "python3"
  },
  "language_info": {
   "codemirror_mode": {
    "name": "ipython",
    "version": 3
   },
   "file_extension": ".py",
   "mimetype": "text/x-python",
   "name": "python",
   "nbconvert_exporter": "python",
   "pygments_lexer": "ipython3",
   "version": "3.12.6"
  }
 },
 "nbformat": 4,
 "nbformat_minor": 5
}
