{
 "cells": [
  {
   "cell_type": "code",
   "execution_count": 17,
   "id": "94d79c80-8d87-41f1-bb86-5213bfe6847f",
   "metadata": {},
   "outputs": [
    {
     "name": "stdout",
     "output_type": "stream",
     "text": [
      "533\n"
     ]
    }
   ],
   "source": [
    "from selenium import webdriver\n",
    "from selenium.webdriver.common.by import By\n",
    "import time\n",
    "driver = webdriver.Chrome()\n",
    "driver.get(f\"https://www.google.com/search?sca_esv=339a018dea4bc811&rlz=1C1GEWG_enNP1128NP1128&tbs=lf:1,lf_ui:2&tbm=lcl&sxsrf=ADLYWIIPUDbmrSUMHClRhEOzrXJptyMptQ:1729220723910&q=colleges+near+me&rflfq=1&num=10&sa=X&sqi=2&ved=2ahUKEwiyq_KX-ZaJAxVvSmwGHcE7EK4QjGp6BAgjEAE&biw=1280&bih=585&dpr=1.5#rlfi=hd:;si:;mv:[[27.727784399999997,85.3487875],[27.6844473,85.3061717]];tbs:lrf:!1m4!1u3!2m2!3m1!1e1!1m4!1u2!2m2!2m1!1e1!2m1!1e2!2m1!1e3!3sIAE,lf:1,lf_ui:2\")\n",
    "time.sleep(10)\n",
    "last_height= driver.execute_script(\"return document.documentElement.scrollHeight\")\n",
    "print(last_height)\n",
    "driver.execute_script(f\"window.scrollTo(0, 1000);\")\n",
    "time.sleep(10)\n",
    "#driver.find_element(By.XPATH, f'/html/body/div[2]/div/div[8]/div[1]/div/div[2]/div[2]/div/div/div/div/div/div/div/div/div/div[2]/div/table/tbody/tr/td[12]/a/span[2]').click()\n",
    "\n",
    "time.sleep(10)\n",
    "driver.quit()"
   ]
  },
  {
   "cell_type": "code",
   "execution_count": null,
   "id": "2fae10e9-2504-42e4-a212-0f466e66941a",
   "metadata": {},
   "outputs": [],
   "source": [
    "# //*[@id=\"programs\"]"
   ]
  },
  {
   "cell_type": "code",
   "execution_count": 18,
   "id": "d290db7b-8d15-4c06-a7ad-6c8e4a1e3780",
   "metadata": {},
   "outputs": [
    {
     "name": "stdout",
     "output_type": "stream",
     "text": [
      "OFFERED PROGRAMS - Tribhuvan University\n",
      "Bachelor in Medical Laboratory Technology (BSc MLT)\n",
      "12 Seats\n",
      "Fee: NPR 777,000\n",
      "Bachelor of Public Health (BPH)\n",
      "20 Seats\n",
      "Fee: NPR 777,000\n",
      "DM Cardiology\n",
      "1 Seats\n",
      "DM Critical Care Medicine\n",
      "1 Seats\n",
      "MS General Surgery\n",
      "4 Seats\n",
      "Fee: NPR 2,381,760\n",
      "MD Microbiology\n",
      "1 Seats\n",
      "Fee: NPR 1,085,870\n",
      "MD Clinical Physiology\n",
      "2 Seats\n",
      "Fee: NPR 1,085,870\n",
      "MD Clinical Pharmacology\n",
      "2 Seats\n",
      "Fee: NPR 1,085,870\n",
      "MD in Radio Diagnosis\n",
      "3 Seats\n",
      "Fee: NPR 2,381,760\n",
      "MD in Psychiatry\n",
      "1 Seats\n",
      "Fee: NPR 2,381,760\n",
      "MD in Ophthalmology\n",
      "2 Seats\n",
      "Fee: NPR 2,381,760\n",
      "MD in Obstetrics and Gynaecology\n",
      "3 Seats\n",
      "Fee: NPR 2,381,760\n",
      "MS Clinical Anatomy\n",
      "2 Seats\n",
      "Fee: NPR 1,085,870\n",
      "MD General Practice (MDGP)\n",
      "3 Seats\n",
      "Fee: NPR 2,381,760\n",
      "MS in Orthopaedic and Trauma Surgery\n",
      "4 Seats\n",
      "Fee: NPR 2,381,760\n",
      "MD Internal Medicine\n",
      "6 Seats\n",
      "Fee: NPR 2,381,760\n",
      "MD Dermatology\n",
      "3 Seats\n",
      "Fee: NPR 2,381,760\n",
      "MD Anaesthesiology\n",
      "6 Seats\n",
      "Fee: NPR 2,381,760\n",
      "MD Pathology\n",
      "4 Seats\n",
      "Fee: NPR 2,381,760\n",
      "MD Paediatrics\n",
      "4 Seats\n",
      "Fee: NPR 2,381,760\n",
      "MS Clinical Otorhinolaryngology and Head and Neck Surgery\n",
      "1 Seats\n",
      "Fee: NPR 2,381,760\n",
      "MBBS\n",
      "100 Seats\n",
      "Fee: NPR 4,168,090\n"
     ]
    }
   ],
   "source": [
    "from selenium import webdriver\n",
    "from selenium.webdriver.common.by import By\n",
    "import time\n",
    "driver = webdriver.Chrome()\n",
    "driver.get(f\"https://edusanjal.com/college/naihs-college-medicine/\")\n",
    "time.sleep(10)\n",
    "text= driver.find_element(By.XPATH, f'/html/body/div[1]/div[2]/div[2]/div/div/div[3]/div[1]/div[2]/div[4]').text\n",
    "print(text)\n",
    "\n",
    "\n",
    "time.sleep(10)\n",
    "driver.quit()"
   ]
  },
  {
   "cell_type": "code",
   "execution_count": null,
   "id": "676b0d14-fdf8-4530-9f1c-60f6a2a9ace7",
   "metadata": {},
   "outputs": [],
   "source": [
    "# next    /html/body/div[2]/div/div[8]/div[1]/div/div[2]/div[2]/div/div/div/div/div/div/div/div/div/div[2]/div/table/tbody/tr/td[12]/a/span[2]"
   ]
  },
  {
   "cell_type": "code",
   "execution_count": null,
   "id": "345f5e0d-951d-4f4f-8cb1-cdcc1f1bf47c",
   "metadata": {},
   "outputs": [],
   "source": [
    "# /html/body/div[2]/div/div[8]/div[1]/div/div[2]/div[2]/div/div/div/div/div/div/div/div/div[1]/div[3]/div[40]/div[2]/div/div/a/div/div/div[1]/span\n",
    "# /html/body/div[2]/div/div[8]/div[1]/div/div[2]/div[2]/div/div/div/div/div/div/div/div/div[1]/div[3]/div[38]/div[2]/div/div/a/div/div/div[1]/span\n",
    "# /html/body/div[2]/div/div[8]/div[1]/div/div[2]/div[2]/div/div/div/div/div/div/div/div/div[1]/div[3]/div[36]/div[2]/div/div/a/div/div/div[1]/span\n",
    "\n",
    "\n",
    "#/html/body/div[2]/div/div[8]/div[1]/div/div[2]/div[2]/div/div/div/div/div/div/div/div/div/div[1]/div[3]/div[40]/div[2]/div/div/a/div/div/div[1]/span"
   ]
  }
 ],
 "metadata": {
  "kernelspec": {
   "display_name": "Python 3 (ipykernel)",
   "language": "python",
   "name": "python3"
  },
  "language_info": {
   "codemirror_mode": {
    "name": "ipython",
    "version": 3
   },
   "file_extension": ".py",
   "mimetype": "text/x-python",
   "name": "python",
   "nbconvert_exporter": "python",
   "pygments_lexer": "ipython3",
   "version": "3.12.6"
  }
 },
 "nbformat": 4,
 "nbformat_minor": 5
}
